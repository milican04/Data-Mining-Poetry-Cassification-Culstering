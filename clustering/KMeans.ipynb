{
 "cells": [
  {
   "cell_type": "markdown",
   "id": "harmful-commander",
   "metadata": {},
   "source": [
    "# KMEANS algorithm"
   ]
  },
  {
   "cell_type": "code",
   "execution_count": 1,
   "id": "authorized-citizenship",
   "metadata": {},
   "outputs": [],
   "source": [
    "# pip install pyclustertend"
   ]
  },
  {
   "cell_type": "code",
   "execution_count": 2,
   "id": "related-specific",
   "metadata": {},
   "outputs": [],
   "source": [
    "# pip install numpy==<1.20>"
   ]
  },
  {
   "cell_type": "code",
   "execution_count": 3,
   "id": "after-america",
   "metadata": {},
   "outputs": [],
   "source": [
    "import pandas as pd\n",
    "import numpy as np\n",
    "import matplotlib.pyplot as plt\n",
    "import math\n",
    "\n",
    "from pyclustertend import hopkins\n",
    "\n",
    "from sklearn.cluster import KMeans\n",
    "from sklearn.decomposition import PCA\n",
    "from sklearn.metrics import silhouette_score, classification_report, confusion_matrix\n",
    "from sklearn.feature_extraction.text import TfidfVectorizer, CountVectorizer\n",
    "from sklearn.preprocessing import LabelEncoder\n",
    "\n",
    "import nltk\n",
    "from nltk.corpus import stopwords"
   ]
  },
  {
   "cell_type": "code",
   "execution_count": 4,
   "id": "studied-album",
   "metadata": {
    "scrolled": false
   },
   "outputs": [
    {
     "data": {
      "text/html": [
       "<div>\n",
       "<style scoped>\n",
       "    .dataframe tbody tr th:only-of-type {\n",
       "        vertical-align: middle;\n",
       "    }\n",
       "\n",
       "    .dataframe tbody tr th {\n",
       "        vertical-align: top;\n",
       "    }\n",
       "\n",
       "    .dataframe thead th {\n",
       "        text-align: right;\n",
       "    }\n",
       "</style>\n",
       "<table border=\"1\" class=\"dataframe\">\n",
       "  <thead>\n",
       "    <tr style=\"text-align: right;\">\n",
       "      <th></th>\n",
       "      <th>author</th>\n",
       "      <th>content</th>\n",
       "      <th>poem name</th>\n",
       "      <th>age</th>\n",
       "      <th>type</th>\n",
       "    </tr>\n",
       "  </thead>\n",
       "  <tbody>\n",
       "    <tr>\n",
       "      <th>0</th>\n",
       "      <td>william shakespeare</td>\n",
       "      <td>let the bird of loudest layon the sole arabian...</td>\n",
       "      <td>The Phoenix and the Turtle</td>\n",
       "      <td>Renaissance</td>\n",
       "      <td>Mythology &amp; Folklore</td>\n",
       "    </tr>\n",
       "    <tr>\n",
       "      <th>1</th>\n",
       "      <td>duchess of newcastle margaret cavendish</td>\n",
       "      <td>sir charles into my chamber coming in when i w...</td>\n",
       "      <td>An Epilogue to the Above</td>\n",
       "      <td>Renaissance</td>\n",
       "      <td>Mythology &amp; Folklore</td>\n",
       "    </tr>\n",
       "    <tr>\n",
       "      <th>2</th>\n",
       "      <td>thomas bastard</td>\n",
       "      <td>our vice runs beyond all that old men saw and ...</td>\n",
       "      <td>Book 7, Epigram 42</td>\n",
       "      <td>Renaissance</td>\n",
       "      <td>Mythology &amp; Folklore</td>\n",
       "    </tr>\n",
       "    <tr>\n",
       "      <th>3</th>\n",
       "      <td>edmund spenser</td>\n",
       "      <td>lo i the man  whose muse whilome did maske as ...</td>\n",
       "      <td>from The Faerie Queene: Book I, Canto I</td>\n",
       "      <td>Renaissance</td>\n",
       "      <td>Mythology &amp; Folklore</td>\n",
       "    </tr>\n",
       "    <tr>\n",
       "      <th>4</th>\n",
       "      <td>richard barnfield</td>\n",
       "      <td>long have i longd to see my love againe still ...</td>\n",
       "      <td>Sonnet 16</td>\n",
       "      <td>Renaissance</td>\n",
       "      <td>Mythology &amp; Folklore</td>\n",
       "    </tr>\n",
       "  </tbody>\n",
       "</table>\n",
       "</div>"
      ],
      "text/plain": [
       "                                    author  \\\n",
       "0                      william shakespeare   \n",
       "1  duchess of newcastle margaret cavendish   \n",
       "2                           thomas bastard   \n",
       "3                           edmund spenser   \n",
       "4                        richard barnfield   \n",
       "\n",
       "                                             content  \\\n",
       "0  let the bird of loudest layon the sole arabian...   \n",
       "1  sir charles into my chamber coming in when i w...   \n",
       "2  our vice runs beyond all that old men saw and ...   \n",
       "3  lo i the man  whose muse whilome did maske as ...   \n",
       "4  long have i longd to see my love againe still ...   \n",
       "\n",
       "                                 poem name          age                  type  \n",
       "0               The Phoenix and the Turtle  Renaissance  Mythology & Folklore  \n",
       "1                 An Epilogue to the Above  Renaissance  Mythology & Folklore  \n",
       "2                       Book 7, Epigram 42  Renaissance  Mythology & Folklore  \n",
       "3  from The Faerie Queene: Book I, Canto I  Renaissance  Mythology & Folklore  \n",
       "4                                Sonnet 16  Renaissance  Mythology & Folklore  "
      ]
     },
     "execution_count": 4,
     "metadata": {},
     "output_type": "execute_result"
    }
   ],
   "source": [
    "df = pd.read_csv('../data/all_preprocessed.csv')\n",
    "df.head()"
   ]
  },
  {
   "cell_type": "code",
   "execution_count": 5,
   "id": "british-baltimore",
   "metadata": {},
   "outputs": [],
   "source": [
    "stopWords = stopwords.words('english')"
   ]
  },
  {
   "cell_type": "code",
   "execution_count": 6,
   "id": "verified-roulette",
   "metadata": {},
   "outputs": [],
   "source": [
    "# df['content'] = df['content'].apply(lambda x: ' '.join([word for word in x.split() if word not in (stopWords)]))"
   ]
  },
  {
   "cell_type": "code",
   "execution_count": 7,
   "id": "antique-fruit",
   "metadata": {},
   "outputs": [],
   "source": [
    "tfidfVectorizer = TfidfVectorizer(stop_words=stopWords)\n",
    "vectorizedContent = tfidfVectorizer.fit_transform(df['content'])"
   ]
  },
  {
   "cell_type": "code",
   "execution_count": 8,
   "id": "conditional-coral",
   "metadata": {
    "scrolled": false
   },
   "outputs": [
    {
     "data": {
      "text/html": [
       "<div>\n",
       "<style scoped>\n",
       "    .dataframe tbody tr th:only-of-type {\n",
       "        vertical-align: middle;\n",
       "    }\n",
       "\n",
       "    .dataframe tbody tr th {\n",
       "        vertical-align: top;\n",
       "    }\n",
       "\n",
       "    .dataframe thead th {\n",
       "        text-align: right;\n",
       "    }\n",
       "</style>\n",
       "<table border=\"1\" class=\"dataframe\">\n",
       "  <thead>\n",
       "    <tr style=\"text-align: right;\">\n",
       "      <th></th>\n",
       "      <th>10</th>\n",
       "      <th>13</th>\n",
       "      <th>1538</th>\n",
       "      <th>19</th>\n",
       "      <th>1904</th>\n",
       "      <th>1914</th>\n",
       "      <th>1917</th>\n",
       "      <th>1919</th>\n",
       "      <th>1921</th>\n",
       "      <th>1922</th>\n",
       "      <th>...</th>\n",
       "      <th>yvory</th>\n",
       "      <th>ywis</th>\n",
       "      <th>zeal</th>\n",
       "      <th>zealous</th>\n",
       "      <th>zenophontes</th>\n",
       "      <th>zephyrs</th>\n",
       "      <th>zephyrus</th>\n",
       "      <th>zeus</th>\n",
       "      <th>zone</th>\n",
       "      <th>zoo</th>\n",
       "    </tr>\n",
       "  </thead>\n",
       "  <tbody>\n",
       "    <tr>\n",
       "      <th>0</th>\n",
       "      <td>0.0</td>\n",
       "      <td>0.0</td>\n",
       "      <td>0.0</td>\n",
       "      <td>0.0</td>\n",
       "      <td>0.0</td>\n",
       "      <td>0.0</td>\n",
       "      <td>0.0</td>\n",
       "      <td>0.0</td>\n",
       "      <td>0.0</td>\n",
       "      <td>0.0</td>\n",
       "      <td>...</td>\n",
       "      <td>0.000000</td>\n",
       "      <td>0.0</td>\n",
       "      <td>0.0</td>\n",
       "      <td>0.0</td>\n",
       "      <td>0.0</td>\n",
       "      <td>0.0</td>\n",
       "      <td>0.0</td>\n",
       "      <td>0.0</td>\n",
       "      <td>0.0</td>\n",
       "      <td>0.0</td>\n",
       "    </tr>\n",
       "    <tr>\n",
       "      <th>1</th>\n",
       "      <td>0.0</td>\n",
       "      <td>0.0</td>\n",
       "      <td>0.0</td>\n",
       "      <td>0.0</td>\n",
       "      <td>0.0</td>\n",
       "      <td>0.0</td>\n",
       "      <td>0.0</td>\n",
       "      <td>0.0</td>\n",
       "      <td>0.0</td>\n",
       "      <td>0.0</td>\n",
       "      <td>...</td>\n",
       "      <td>0.000000</td>\n",
       "      <td>0.0</td>\n",
       "      <td>0.0</td>\n",
       "      <td>0.0</td>\n",
       "      <td>0.0</td>\n",
       "      <td>0.0</td>\n",
       "      <td>0.0</td>\n",
       "      <td>0.0</td>\n",
       "      <td>0.0</td>\n",
       "      <td>0.0</td>\n",
       "    </tr>\n",
       "    <tr>\n",
       "      <th>2</th>\n",
       "      <td>0.0</td>\n",
       "      <td>0.0</td>\n",
       "      <td>0.0</td>\n",
       "      <td>0.0</td>\n",
       "      <td>0.0</td>\n",
       "      <td>0.0</td>\n",
       "      <td>0.0</td>\n",
       "      <td>0.0</td>\n",
       "      <td>0.0</td>\n",
       "      <td>0.0</td>\n",
       "      <td>...</td>\n",
       "      <td>0.000000</td>\n",
       "      <td>0.0</td>\n",
       "      <td>0.0</td>\n",
       "      <td>0.0</td>\n",
       "      <td>0.0</td>\n",
       "      <td>0.0</td>\n",
       "      <td>0.0</td>\n",
       "      <td>0.0</td>\n",
       "      <td>0.0</td>\n",
       "      <td>0.0</td>\n",
       "    </tr>\n",
       "    <tr>\n",
       "      <th>3</th>\n",
       "      <td>0.0</td>\n",
       "      <td>0.0</td>\n",
       "      <td>0.0</td>\n",
       "      <td>0.0</td>\n",
       "      <td>0.0</td>\n",
       "      <td>0.0</td>\n",
       "      <td>0.0</td>\n",
       "      <td>0.0</td>\n",
       "      <td>0.0</td>\n",
       "      <td>0.0</td>\n",
       "      <td>...</td>\n",
       "      <td>0.014434</td>\n",
       "      <td>0.0</td>\n",
       "      <td>0.0</td>\n",
       "      <td>0.0</td>\n",
       "      <td>0.0</td>\n",
       "      <td>0.0</td>\n",
       "      <td>0.0</td>\n",
       "      <td>0.0</td>\n",
       "      <td>0.0</td>\n",
       "      <td>0.0</td>\n",
       "    </tr>\n",
       "    <tr>\n",
       "      <th>4</th>\n",
       "      <td>0.0</td>\n",
       "      <td>0.0</td>\n",
       "      <td>0.0</td>\n",
       "      <td>0.0</td>\n",
       "      <td>0.0</td>\n",
       "      <td>0.0</td>\n",
       "      <td>0.0</td>\n",
       "      <td>0.0</td>\n",
       "      <td>0.0</td>\n",
       "      <td>0.0</td>\n",
       "      <td>...</td>\n",
       "      <td>0.000000</td>\n",
       "      <td>0.0</td>\n",
       "      <td>0.0</td>\n",
       "      <td>0.0</td>\n",
       "      <td>0.0</td>\n",
       "      <td>0.0</td>\n",
       "      <td>0.0</td>\n",
       "      <td>0.0</td>\n",
       "      <td>0.0</td>\n",
       "      <td>0.0</td>\n",
       "    </tr>\n",
       "  </tbody>\n",
       "</table>\n",
       "<p>5 rows × 13476 columns</p>\n",
       "</div>"
      ],
      "text/plain": [
       "    10   13  1538   19  1904  1914  1917  1919  1921  1922  ...     yvory  \\\n",
       "0  0.0  0.0   0.0  0.0   0.0   0.0   0.0   0.0   0.0   0.0  ...  0.000000   \n",
       "1  0.0  0.0   0.0  0.0   0.0   0.0   0.0   0.0   0.0   0.0  ...  0.000000   \n",
       "2  0.0  0.0   0.0  0.0   0.0   0.0   0.0   0.0   0.0   0.0  ...  0.000000   \n",
       "3  0.0  0.0   0.0  0.0   0.0   0.0   0.0   0.0   0.0   0.0  ...  0.014434   \n",
       "4  0.0  0.0   0.0  0.0   0.0   0.0   0.0   0.0   0.0   0.0  ...  0.000000   \n",
       "\n",
       "   ywis  zeal  zealous  zenophontes  zephyrs  zephyrus  zeus  zone  zoo  \n",
       "0   0.0   0.0      0.0          0.0      0.0       0.0   0.0   0.0  0.0  \n",
       "1   0.0   0.0      0.0          0.0      0.0       0.0   0.0   0.0  0.0  \n",
       "2   0.0   0.0      0.0          0.0      0.0       0.0   0.0   0.0  0.0  \n",
       "3   0.0   0.0      0.0          0.0      0.0       0.0   0.0   0.0  0.0  \n",
       "4   0.0   0.0      0.0          0.0      0.0       0.0   0.0   0.0  0.0  \n",
       "\n",
       "[5 rows x 13476 columns]"
      ]
     },
     "execution_count": 8,
     "metadata": {},
     "output_type": "execute_result"
    }
   ],
   "source": [
    "finalData = pd.DataFrame(vectorizedContent.toarray(), columns=tfidfVectorizer.get_feature_names_out())\n",
    "finalData.head()"
   ]
  },
  {
   "cell_type": "code",
   "execution_count": 9,
   "id": "sustained-infrared",
   "metadata": {},
   "outputs": [],
   "source": [
    "colors = ['red', 'green', 'blue', 'purple', 'brown','pink', 'orange', 'darkblue', 'yellow', 'darkgreen']"
   ]
  },
  {
   "cell_type": "code",
   "execution_count": 10,
   "id": "early-vessel",
   "metadata": {},
   "outputs": [],
   "source": [
    "def drawPlot(nClusters, labels, xs, ys, model):\n",
    "    if labels == []:\n",
    "        labels = ['cluster ' + str(i+1) for i in range(nClusters+1)]\n",
    "\n",
    "    plt.figure(figsize=(8, 8))\n",
    "    for i in range(nClusters):\n",
    "        plt.scatter(reduced_data[model.labels_ == i, 0],\n",
    "                    reduced_data[model.labels_ == i, 1], \n",
    "                    s=10, color=colors[i], \n",
    "                    label=f' {labels[i]}')\n",
    "    plt.legend()\n",
    "    plt.show()"
   ]
  },
  {
   "cell_type": "markdown",
   "id": "fifth-valve",
   "metadata": {},
   "source": [
    "## Hopkins statistic"
   ]
  },
  {
   "cell_type": "code",
   "execution_count": 11,
   "id": "religious-deposit",
   "metadata": {},
   "outputs": [
    {
     "data": {
      "text/plain": [
       "0.10988770916610588"
      ]
     },
     "execution_count": 11,
     "metadata": {},
     "output_type": "execute_result"
    }
   ],
   "source": [
    "hs = hopkins(finalData, finalData.shape[0])\n",
    "hs"
   ]
  },
  {
   "cell_type": "markdown",
   "id": "middle-happening",
   "metadata": {},
   "source": [
    "## KMEANS - nonreduced data"
   ]
  },
  {
   "cell_type": "markdown",
   "id": "innocent-billy",
   "metadata": {},
   "source": [
    "#### Reduce the dimensionality of the data using PCA for plot creation"
   ]
  },
  {
   "cell_type": "code",
   "execution_count": 12,
   "id": "promising-march",
   "metadata": {},
   "outputs": [
    {
     "data": {
      "text/plain": [
       "array([[-0.11557847,  0.04896178],\n",
       "       [-0.00406632, -0.02461915],\n",
       "       [-0.0173579 , -0.00940559],\n",
       "       ...,\n",
       "       [-0.01990367, -0.02703317],\n",
       "       [-0.0249852 , -0.02101384],\n",
       "       [-0.05388344, -0.00343988]])"
      ]
     },
     "execution_count": 12,
     "metadata": {},
     "output_type": "execute_result"
    }
   ],
   "source": [
    "pca = PCA(n_components=2)\n",
    "reduced_data = pca.fit_transform(finalData)\n",
    "reduced_data"
   ]
  },
  {
   "cell_type": "markdown",
   "id": "visible-subject",
   "metadata": {},
   "source": [
    "### K = 2"
   ]
  },
  {
   "cell_type": "code",
   "execution_count": 13,
   "id": "prerequisite-wyoming",
   "metadata": {},
   "outputs": [],
   "source": [
    "k = 2"
   ]
  },
  {
   "cell_type": "markdown",
   "id": "intended-sponsorship",
   "metadata": {},
   "source": [
    "#### Model creation"
   ]
  },
  {
   "cell_type": "code",
   "execution_count": 14,
   "id": "level-preparation",
   "metadata": {},
   "outputs": [],
   "source": [
    "model = KMeans(n_clusters=k, init='k-means++', n_init=20, max_iter=400, tol=0.00001)"
   ]
  },
  {
   "cell_type": "code",
   "execution_count": 15,
   "id": "environmental-article",
   "metadata": {
    "scrolled": true
   },
   "outputs": [
    {
     "data": {
      "text/html": [
       "<style>#sk-container-id-1 {color: black;background-color: white;}#sk-container-id-1 pre{padding: 0;}#sk-container-id-1 div.sk-toggleable {background-color: white;}#sk-container-id-1 label.sk-toggleable__label {cursor: pointer;display: block;width: 100%;margin-bottom: 0;padding: 0.3em;box-sizing: border-box;text-align: center;}#sk-container-id-1 label.sk-toggleable__label-arrow:before {content: \"▸\";float: left;margin-right: 0.25em;color: #696969;}#sk-container-id-1 label.sk-toggleable__label-arrow:hover:before {color: black;}#sk-container-id-1 div.sk-estimator:hover label.sk-toggleable__label-arrow:before {color: black;}#sk-container-id-1 div.sk-toggleable__content {max-height: 0;max-width: 0;overflow: hidden;text-align: left;background-color: #f0f8ff;}#sk-container-id-1 div.sk-toggleable__content pre {margin: 0.2em;color: black;border-radius: 0.25em;background-color: #f0f8ff;}#sk-container-id-1 input.sk-toggleable__control:checked~div.sk-toggleable__content {max-height: 200px;max-width: 100%;overflow: auto;}#sk-container-id-1 input.sk-toggleable__control:checked~label.sk-toggleable__label-arrow:before {content: \"▾\";}#sk-container-id-1 div.sk-estimator input.sk-toggleable__control:checked~label.sk-toggleable__label {background-color: #d4ebff;}#sk-container-id-1 div.sk-label input.sk-toggleable__control:checked~label.sk-toggleable__label {background-color: #d4ebff;}#sk-container-id-1 input.sk-hidden--visually {border: 0;clip: rect(1px 1px 1px 1px);clip: rect(1px, 1px, 1px, 1px);height: 1px;margin: -1px;overflow: hidden;padding: 0;position: absolute;width: 1px;}#sk-container-id-1 div.sk-estimator {font-family: monospace;background-color: #f0f8ff;border: 1px dotted black;border-radius: 0.25em;box-sizing: border-box;margin-bottom: 0.5em;}#sk-container-id-1 div.sk-estimator:hover {background-color: #d4ebff;}#sk-container-id-1 div.sk-parallel-item::after {content: \"\";width: 100%;border-bottom: 1px solid gray;flex-grow: 1;}#sk-container-id-1 div.sk-label:hover label.sk-toggleable__label {background-color: #d4ebff;}#sk-container-id-1 div.sk-serial::before {content: \"\";position: absolute;border-left: 1px solid gray;box-sizing: border-box;top: 0;bottom: 0;left: 50%;z-index: 0;}#sk-container-id-1 div.sk-serial {display: flex;flex-direction: column;align-items: center;background-color: white;padding-right: 0.2em;padding-left: 0.2em;position: relative;}#sk-container-id-1 div.sk-item {position: relative;z-index: 1;}#sk-container-id-1 div.sk-parallel {display: flex;align-items: stretch;justify-content: center;background-color: white;position: relative;}#sk-container-id-1 div.sk-item::before, #sk-container-id-1 div.sk-parallel-item::before {content: \"\";position: absolute;border-left: 1px solid gray;box-sizing: border-box;top: 0;bottom: 0;left: 50%;z-index: -1;}#sk-container-id-1 div.sk-parallel-item {display: flex;flex-direction: column;z-index: 1;position: relative;background-color: white;}#sk-container-id-1 div.sk-parallel-item:first-child::after {align-self: flex-end;width: 50%;}#sk-container-id-1 div.sk-parallel-item:last-child::after {align-self: flex-start;width: 50%;}#sk-container-id-1 div.sk-parallel-item:only-child::after {width: 0;}#sk-container-id-1 div.sk-dashed-wrapped {border: 1px dashed gray;margin: 0 0.4em 0.5em 0.4em;box-sizing: border-box;padding-bottom: 0.4em;background-color: white;}#sk-container-id-1 div.sk-label label {font-family: monospace;font-weight: bold;display: inline-block;line-height: 1.2em;}#sk-container-id-1 div.sk-label-container {text-align: center;}#sk-container-id-1 div.sk-container {/* jupyter's `normalize.less` sets `[hidden] { display: none; }` but bootstrap.min.css set `[hidden] { display: none !important; }` so we also need the `!important` here to be able to override the default hidden behavior on the sphinx rendered scikit-learn.org. See: https://github.com/scikit-learn/scikit-learn/issues/21755 */display: inline-block !important;position: relative;}#sk-container-id-1 div.sk-text-repr-fallback {display: none;}</style><div id=\"sk-container-id-1\" class=\"sk-top-container\"><div class=\"sk-text-repr-fallback\"><pre>KMeans(max_iter=400, n_clusters=2, n_init=20, tol=1e-05)</pre><b>In a Jupyter environment, please rerun this cell to show the HTML representation or trust the notebook. <br />On GitHub, the HTML representation is unable to render, please try loading this page with nbviewer.org.</b></div><div class=\"sk-container\" hidden><div class=\"sk-item\"><div class=\"sk-estimator sk-toggleable\"><input class=\"sk-toggleable__control sk-hidden--visually\" id=\"sk-estimator-id-1\" type=\"checkbox\" checked><label for=\"sk-estimator-id-1\" class=\"sk-toggleable__label sk-toggleable__label-arrow\">KMeans</label><div class=\"sk-toggleable__content\"><pre>KMeans(max_iter=400, n_clusters=2, n_init=20, tol=1e-05)</pre></div></div></div></div></div>"
      ],
      "text/plain": [
       "KMeans(max_iter=400, n_clusters=2, n_init=20, tol=1e-05)"
      ]
     },
     "execution_count": 15,
     "metadata": {},
     "output_type": "execute_result"
    }
   ],
   "source": [
    "model.fit(finalData)"
   ]
  },
  {
   "cell_type": "code",
   "execution_count": 16,
   "id": "jewish-sweet",
   "metadata": {
    "scrolled": false
   },
   "outputs": [
    {
     "data": {
      "text/plain": [
       "<matplotlib.legend.Legend at 0x7f9b3f178ee0>"
      ]
     },
     "execution_count": 16,
     "metadata": {},
     "output_type": "execute_result"
    },
    {
     "data": {
      "image/png": "[encoded data removed]",
      "text/plain": [
       "<Figure size 1080x576 with 2 Axes>"
      ]
     },
     "metadata": {
      "needs_background": "light"
     },
     "output_type": "display_data"
    }
   ],
   "source": [
    "fig, (ax1, ax2) = plt.subplots(1, 2, figsize=(15, 8))\n",
    "fig.suptitle('Cluster vs Age')\n",
    "cluster = ['cluster ' + str(i+1) for i in range(k+1)]\n",
    "\n",
    "for i in range(k):\n",
    "    ax1.scatter(reduced_data[model.labels_ == i, 0],\n",
    "                reduced_data[model.labels_ == i, 1], \n",
    "                s=10, color=colors[i], \n",
    "                label=f' {cluster[i]}')\n",
    "ax1.legend()\n",
    "\n",
    "ages = df.age.unique()\n",
    "\n",
    "i = 0\n",
    "for a in ages:\n",
    "    ids = df.index[df['age'] == a].tolist()\n",
    "    ax2.scatter(np.array(reduced_data)[ids, 0],\n",
    "                np.array(reduced_data)[ids, 1], \n",
    "                s=10, color=colors[i], \n",
    "                label=f' {ages[i]}')\n",
    "    i+=1\n",
    "ax2.legend()"
   ]
  },
  {
   "cell_type": "markdown",
   "id": "yellow-requirement",
   "metadata": {},
   "source": [
    "## K = 3"
   ]
  },
  {
   "cell_type": "code",
   "execution_count": 17,
   "id": "charged-tuesday",
   "metadata": {},
   "outputs": [],
   "source": [
    "k = 3"
   ]
  },
  {
   "cell_type": "code",
   "execution_count": 18,
   "id": "greenhouse-average",
   "metadata": {},
   "outputs": [],
   "source": [
    "model = KMeans(n_clusters=k, init='k-means++', n_init=20, max_iter=400, tol=0.00001)"
   ]
  },
  {
   "cell_type": "code",
   "execution_count": 19,
   "id": "higher-stable",
   "metadata": {},
   "outputs": [
    {
     "data": {
      "text/html": [
       "<style>#sk-container-id-2 {color: black;background-color: white;}#sk-container-id-2 pre{padding: 0;}#sk-container-id-2 div.sk-toggleable {background-color: white;}#sk-container-id-2 label.sk-toggleable__label {cursor: pointer;display: block;width: 100%;margin-bottom: 0;padding: 0.3em;box-sizing: border-box;text-align: center;}#sk-container-id-2 label.sk-toggleable__label-arrow:before {content: \"▸\";float: left;margin-right: 0.25em;color: #696969;}#sk-container-id-2 label.sk-toggleable__label-arrow:hover:before {color: black;}#sk-container-id-2 div.sk-estimator:hover label.sk-toggleable__label-arrow:before {color: black;}#sk-container-id-2 div.sk-toggleable__content {max-height: 0;max-width: 0;overflow: hidden;text-align: left;background-color: #f0f8ff;}#sk-container-id-2 div.sk-toggleable__content pre {margin: 0.2em;color: black;border-radius: 0.25em;background-color: #f0f8ff;}#sk-container-id-2 input.sk-toggleable__control:checked~div.sk-toggleable__content {max-height: 200px;max-width: 100%;overflow: auto;}#sk-container-id-2 input.sk-toggleable__control:checked~label.sk-toggleable__label-arrow:before {content: \"▾\";}#sk-container-id-2 div.sk-estimator input.sk-toggleable__control:checked~label.sk-toggleable__label {background-color: #d4ebff;}#sk-container-id-2 div.sk-label input.sk-toggleable__control:checked~label.sk-toggleable__label {background-color: #d4ebff;}#sk-container-id-2 input.sk-hidden--visually {border: 0;clip: rect(1px 1px 1px 1px);clip: rect(1px, 1px, 1px, 1px);height: 1px;margin: -1px;overflow: hidden;padding: 0;position: absolute;width: 1px;}#sk-container-id-2 div.sk-estimator {font-family: monospace;background-color: #f0f8ff;border: 1px dotted black;border-radius: 0.25em;box-sizing: border-box;margin-bottom: 0.5em;}#sk-container-id-2 div.sk-estimator:hover {background-color: #d4ebff;}#sk-container-id-2 div.sk-parallel-item::after {content: \"\";width: 100%;border-bottom: 1px solid gray;flex-grow: 1;}#sk-container-id-2 div.sk-label:hover label.sk-toggleable__label {background-color: #d4ebff;}#sk-container-id-2 div.sk-serial::before {content: \"\";position: absolute;border-left: 1px solid gray;box-sizing: border-box;top: 0;bottom: 0;left: 50%;z-index: 0;}#sk-container-id-2 div.sk-serial {display: flex;flex-direction: column;align-items: center;background-color: white;padding-right: 0.2em;padding-left: 0.2em;position: relative;}#sk-container-id-2 div.sk-item {position: relative;z-index: 1;}#sk-container-id-2 div.sk-parallel {display: flex;align-items: stretch;justify-content: center;background-color: white;position: relative;}#sk-container-id-2 div.sk-item::before, #sk-container-id-2 div.sk-parallel-item::before {content: \"\";position: absolute;border-left: 1px solid gray;box-sizing: border-box;top: 0;bottom: 0;left: 50%;z-index: -1;}#sk-container-id-2 div.sk-parallel-item {display: flex;flex-direction: column;z-index: 1;position: relative;background-color: white;}#sk-container-id-2 div.sk-parallel-item:first-child::after {align-self: flex-end;width: 50%;}#sk-container-id-2 div.sk-parallel-item:last-child::after {align-self: flex-start;width: 50%;}#sk-container-id-2 div.sk-parallel-item:only-child::after {width: 0;}#sk-container-id-2 div.sk-dashed-wrapped {border: 1px dashed gray;margin: 0 0.4em 0.5em 0.4em;box-sizing: border-box;padding-bottom: 0.4em;background-color: white;}#sk-container-id-2 div.sk-label label {font-family: monospace;font-weight: bold;display: inline-block;line-height: 1.2em;}#sk-container-id-2 div.sk-label-container {text-align: center;}#sk-container-id-2 div.sk-container {/* jupyter's `normalize.less` sets `[hidden] { display: none; }` but bootstrap.min.css set `[hidden] { display: none !important; }` so we also need the `!important` here to be able to override the default hidden behavior on the sphinx rendered scikit-learn.org. See: https://github.com/scikit-learn/scikit-learn/issues/21755 */display: inline-block !important;position: relative;}#sk-container-id-2 div.sk-text-repr-fallback {display: none;}</style><div id=\"sk-container-id-2\" class=\"sk-top-container\"><div class=\"sk-text-repr-fallback\"><pre>KMeans(max_iter=400, n_clusters=3, n_init=20, tol=1e-05)</pre><b>In a Jupyter environment, please rerun this cell to show the HTML representation or trust the notebook. <br />On GitHub, the HTML representation is unable to render, please try loading this page with nbviewer.org.</b></div><div class=\"sk-container\" hidden><div class=\"sk-item\"><div class=\"sk-estimator sk-toggleable\"><input class=\"sk-toggleable__control sk-hidden--visually\" id=\"sk-estimator-id-2\" type=\"checkbox\" checked><label for=\"sk-estimator-id-2\" class=\"sk-toggleable__label sk-toggleable__label-arrow\">KMeans</label><div class=\"sk-toggleable__content\"><pre>KMeans(max_iter=400, n_clusters=3, n_init=20, tol=1e-05)</pre></div></div></div></div></div>"
      ],
      "text/plain": [
       "KMeans(max_iter=400, n_clusters=3, n_init=20, tol=1e-05)"
      ]
     },
     "execution_count": 19,
     "metadata": {},
     "output_type": "execute_result"
    }
   ],
   "source": [
    "model.fit(finalData)"
   ]
  },
  {
   "cell_type": "code",
   "execution_count": 20,
   "id": "spectacular-aerospace",
   "metadata": {},
   "outputs": [
    {
     "data": {
      "text/plain": [
       "<matplotlib.legend.Legend at 0x7f9b357e5cd0>"
      ]
     },
     "execution_count": 20,
     "metadata": {},
     "output_type": "execute_result"
    },
    {
     "data": {
      "image/png": "[encoded data removed]",
      "text/plain": [
       "<Figure size 1080x576 with 2 Axes>"
      ]
     },
     "metadata": {
      "needs_background": "light"
     },
     "output_type": "display_data"
    }
   ],
   "source": [
    "fig, (ax1, ax2) = plt.subplots(1, 2, figsize=(15, 8))\n",
    "fig.suptitle('Cluster vs Type')\n",
    "cluster = ['cluster ' + str(i+1) for i in range(k+1)]\n",
    "\n",
    "for i in range(k):\n",
    "    ax1.scatter(reduced_data[model.labels_ == i, 0],\n",
    "                reduced_data[model.labels_ == i, 1], \n",
    "                s=10, color=colors[i], \n",
    "                label=f' {cluster[i]}')\n",
    "ax1.legend()\n",
    "\n",
    "types = df.type.unique()\n",
    "\n",
    "i = 0\n",
    "for a in types:\n",
    "    ids = df.index[df['type'] == a].tolist()\n",
    "    ax2.scatter(np.array(reduced_data)[ids, 0],\n",
    "                np.array(reduced_data)[ids, 1], \n",
    "                s=10, color=colors[i], \n",
    "                label=f' {types[i]}')\n",
    "    i+=1\n",
    "ax2.legend()"
   ]
  },
  {
   "cell_type": "markdown",
   "id": "domestic-addition",
   "metadata": {},
   "source": [
    "#### Elbow method on nonreduced data"
   ]
  },
  {
   "cell_type": "code",
   "execution_count": 21,
   "id": "virtual-visibility",
   "metadata": {},
   "outputs": [],
   "source": [
    "ks = range(2, 10)\n",
    "inertias = []\n",
    "silhouettes = []\n",
    "for k in ks:\n",
    "    kmeans = KMeans(n_clusters=k, init='k-means++', n_init=20)\n",
    "    kmeans.fit(finalData)\n",
    "    inertias.append(kmeans.inertia_)\n",
    "    silhouettes.append(silhouette_score(finalData, kmeans.labels_))"
   ]
  },
  {
   "cell_type": "code",
   "execution_count": 22,
   "id": "everyday-publicity",
   "metadata": {
    "scrolled": false
   },
   "outputs": [
    {
     "data": {
      "text/plain": [
       "[<matplotlib.lines.Line2D at 0x7f9b357399d0>]"
      ]
     },
     "execution_count": 22,
     "metadata": {},
     "output_type": "execute_result"
    },
    {
     "data": {
      "text/plain": [
       "<Figure size 720x360 with 0 Axes>"
      ]
     },
     "metadata": {},
     "output_type": "display_data"
    },
    {
     "data": {
      "image/png": "[encoded data removed]",
      "text/plain": [
       "<Figure size 1080x576 with 2 Axes>"
      ]
     },
     "metadata": {
      "needs_background": "light"
     },
     "output_type": "display_data"
    }
   ],
   "source": [
    "fig = plt.figure(figsize=(10, 5))\n",
    "\n",
    "fig, (ax1, ax2) = plt.subplots(1, 2, figsize=(15, 8))\n",
    "fig.suptitle('Inertias and Silhouettes')\n",
    "\n",
    "ax1.plot(ks, inertias, marker='o', color='red')\n",
    "ax2.plot(ks, silhouettes, marker='o', color='blue')"
   ]
  },
  {
   "cell_type": "markdown",
   "id": "postal-silver",
   "metadata": {},
   "source": [
    "## KMEANS - reduced data"
   ]
  },
  {
   "cell_type": "code",
   "execution_count": 23,
   "id": "suited-graduation",
   "metadata": {},
   "outputs": [
    {
     "data": {
      "text/plain": [
       "array([[-0.11556364,  0.04899443],\n",
       "       [-0.00406818, -0.02469554],\n",
       "       [-0.01736503, -0.0094413 ],\n",
       "       ...,\n",
       "       [-0.01990482, -0.02720282],\n",
       "       [-0.02498511, -0.02104948],\n",
       "       [-0.05387417, -0.0034116 ]])"
      ]
     },
     "execution_count": 23,
     "metadata": {},
     "output_type": "execute_result"
    }
   ],
   "source": [
    "pca = PCA(n_components=2)\n",
    "reduced_data = pca.fit_transform(finalData)\n",
    "reduced_data"
   ]
  },
  {
   "cell_type": "code",
   "execution_count": 24,
   "id": "hawaiian-gauge",
   "metadata": {},
   "outputs": [],
   "source": [
    "ks = range(2, 10)\n",
    "inertias = []\n",
    "silhouettes = []\n",
    "for k in ks:\n",
    "    kmeans = KMeans(n_clusters=k, init='k-means++', n_init=20)\n",
    "    kmeans.fit(reduced_data)\n",
    "    inertias.append(kmeans.inertia_)\n",
    "    silhouettes.append(silhouette_score(reduced_data, kmeans.labels_))"
   ]
  },
  {
   "cell_type": "code",
   "execution_count": 25,
   "id": "statutory-walter",
   "metadata": {
    "scrolled": false
   },
   "outputs": [
    {
     "data": {
      "text/plain": [
       "[<matplotlib.lines.Line2D at 0x7f9b3562e310>]"
      ]
     },
     "execution_count": 25,
     "metadata": {},
     "output_type": "execute_result"
    },
    {
     "data": {
      "text/plain": [
       "<Figure size 720x360 with 0 Axes>"
      ]
     },
     "metadata": {},
     "output_type": "display_data"
    },
    {
     "data": {
      "image/png": "[encoded data removed]",
      "text/plain": [
       "<Figure size 1080x576 with 2 Axes>"
      ]
     },
     "metadata": {
      "needs_background": "light"
     },
     "output_type": "display_data"
    }
   ],
   "source": [
    "fig = plt.figure(figsize=(10, 5))\n",
    "\n",
    "fig, (ax1, ax2) = plt.subplots(1, 2, figsize=(15, 8))\n",
    "fig.suptitle('Inertias and Silhouettes')\n",
    "\n",
    "ax1.plot(ks, inertias, marker='o', color = 'red')\n",
    "ax2.plot(ks, silhouettes, marker='o', color = 'blue')"
   ]
  },
  {
   "cell_type": "code",
   "execution_count": 35,
   "id": "cross-adelaide",
   "metadata": {},
   "outputs": [],
   "source": [
    "k = 3"
   ]
  },
  {
   "cell_type": "code",
   "execution_count": 36,
   "id": "raising-abuse",
   "metadata": {},
   "outputs": [],
   "source": [
    "model = KMeans(n_clusters=k, init='k-means++', n_init=30, max_iter=400, tol=0.00001)"
   ]
  },
  {
   "cell_type": "code",
   "execution_count": 37,
   "id": "alert-center",
   "metadata": {},
   "outputs": [
    {
     "data": {
      "text/html": [
       "<style>#sk-container-id-4 {color: black;background-color: white;}#sk-container-id-4 pre{padding: 0;}#sk-container-id-4 div.sk-toggleable {background-color: white;}#sk-container-id-4 label.sk-toggleable__label {cursor: pointer;display: block;width: 100%;margin-bottom: 0;padding: 0.3em;box-sizing: border-box;text-align: center;}#sk-container-id-4 label.sk-toggleable__label-arrow:before {content: \"▸\";float: left;margin-right: 0.25em;color: #696969;}#sk-container-id-4 label.sk-toggleable__label-arrow:hover:before {color: black;}#sk-container-id-4 div.sk-estimator:hover label.sk-toggleable__label-arrow:before {color: black;}#sk-container-id-4 div.sk-toggleable__content {max-height: 0;max-width: 0;overflow: hidden;text-align: left;background-color: #f0f8ff;}#sk-container-id-4 div.sk-toggleable__content pre {margin: 0.2em;color: black;border-radius: 0.25em;background-color: #f0f8ff;}#sk-container-id-4 input.sk-toggleable__control:checked~div.sk-toggleable__content {max-height: 200px;max-width: 100%;overflow: auto;}#sk-container-id-4 input.sk-toggleable__control:checked~label.sk-toggleable__label-arrow:before {content: \"▾\";}#sk-container-id-4 div.sk-estimator input.sk-toggleable__control:checked~label.sk-toggleable__label {background-color: #d4ebff;}#sk-container-id-4 div.sk-label input.sk-toggleable__control:checked~label.sk-toggleable__label {background-color: #d4ebff;}#sk-container-id-4 input.sk-hidden--visually {border: 0;clip: rect(1px 1px 1px 1px);clip: rect(1px, 1px, 1px, 1px);height: 1px;margin: -1px;overflow: hidden;padding: 0;position: absolute;width: 1px;}#sk-container-id-4 div.sk-estimator {font-family: monospace;background-color: #f0f8ff;border: 1px dotted black;border-radius: 0.25em;box-sizing: border-box;margin-bottom: 0.5em;}#sk-container-id-4 div.sk-estimator:hover {background-color: #d4ebff;}#sk-container-id-4 div.sk-parallel-item::after {content: \"\";width: 100%;border-bottom: 1px solid gray;flex-grow: 1;}#sk-container-id-4 div.sk-label:hover label.sk-toggleable__label {background-color: #d4ebff;}#sk-container-id-4 div.sk-serial::before {content: \"\";position: absolute;border-left: 1px solid gray;box-sizing: border-box;top: 0;bottom: 0;left: 50%;z-index: 0;}#sk-container-id-4 div.sk-serial {display: flex;flex-direction: column;align-items: center;background-color: white;padding-right: 0.2em;padding-left: 0.2em;position: relative;}#sk-container-id-4 div.sk-item {position: relative;z-index: 1;}#sk-container-id-4 div.sk-parallel {display: flex;align-items: stretch;justify-content: center;background-color: white;position: relative;}#sk-container-id-4 div.sk-item::before, #sk-container-id-4 div.sk-parallel-item::before {content: \"\";position: absolute;border-left: 1px solid gray;box-sizing: border-box;top: 0;bottom: 0;left: 50%;z-index: -1;}#sk-container-id-4 div.sk-parallel-item {display: flex;flex-direction: column;z-index: 1;position: relative;background-color: white;}#sk-container-id-4 div.sk-parallel-item:first-child::after {align-self: flex-end;width: 50%;}#sk-container-id-4 div.sk-parallel-item:last-child::after {align-self: flex-start;width: 50%;}#sk-container-id-4 div.sk-parallel-item:only-child::after {width: 0;}#sk-container-id-4 div.sk-dashed-wrapped {border: 1px dashed gray;margin: 0 0.4em 0.5em 0.4em;box-sizing: border-box;padding-bottom: 0.4em;background-color: white;}#sk-container-id-4 div.sk-label label {font-family: monospace;font-weight: bold;display: inline-block;line-height: 1.2em;}#sk-container-id-4 div.sk-label-container {text-align: center;}#sk-container-id-4 div.sk-container {/* jupyter's `normalize.less` sets `[hidden] { display: none; }` but bootstrap.min.css set `[hidden] { display: none !important; }` so we also need the `!important` here to be able to override the default hidden behavior on the sphinx rendered scikit-learn.org. See: https://github.com/scikit-learn/scikit-learn/issues/21755 */display: inline-block !important;position: relative;}#sk-container-id-4 div.sk-text-repr-fallback {display: none;}</style><div id=\"sk-container-id-4\" class=\"sk-top-container\"><div class=\"sk-text-repr-fallback\"><pre>KMeans(max_iter=400, n_clusters=3, n_init=30, tol=1e-05)</pre><b>In a Jupyter environment, please rerun this cell to show the HTML representation or trust the notebook. <br />On GitHub, the HTML representation is unable to render, please try loading this page with nbviewer.org.</b></div><div class=\"sk-container\" hidden><div class=\"sk-item\"><div class=\"sk-estimator sk-toggleable\"><input class=\"sk-toggleable__control sk-hidden--visually\" id=\"sk-estimator-id-4\" type=\"checkbox\" checked><label for=\"sk-estimator-id-4\" class=\"sk-toggleable__label sk-toggleable__label-arrow\">KMeans</label><div class=\"sk-toggleable__content\"><pre>KMeans(max_iter=400, n_clusters=3, n_init=30, tol=1e-05)</pre></div></div></div></div></div>"
      ],
      "text/plain": [
       "KMeans(max_iter=400, n_clusters=3, n_init=30, tol=1e-05)"
      ]
     },
     "execution_count": 37,
     "metadata": {},
     "output_type": "execute_result"
    }
   ],
   "source": [
    "model.fit(reduced_data)"
   ]
  },
  {
   "cell_type": "code",
   "execution_count": 38,
   "id": "rough-translator",
   "metadata": {},
   "outputs": [
    {
     "data": {
      "image/png": "[encoded data removed]",
      "text/plain": [
       "<Figure size 576x576 with 1 Axes>"
      ]
     },
     "metadata": {
      "needs_background": "light"
     },
     "output_type": "display_data"
    }
   ],
   "source": [
    "cluster = ['cluster ' + str(i+1) for i in range(k+1)]\n",
    "\n",
    "plt.figure(figsize=(8, 8))\n",
    "for i in range(k):\n",
    "    plt.scatter(reduced_data[model.labels_ == i, 0],\n",
    "                reduced_data[model.labels_ == i, 1], \n",
    "                s=10, color=colors[i], \n",
    "                label=f' {cluster[i]}')\n",
    "plt.legend()\n",
    "plt.show()"
   ]
  },
  {
   "cell_type": "markdown",
   "id": "failing-fantasy",
   "metadata": {},
   "source": [
    "Number of instances in each cluster:"
   ]
  },
  {
   "cell_type": "code",
   "execution_count": 39,
   "id": "promotional-feature",
   "metadata": {
    "scrolled": true
   },
   "outputs": [
    {
     "data": {
      "text/plain": [
       "array([422,   9,  75])"
      ]
     },
     "execution_count": 39,
     "metadata": {},
     "output_type": "execute_result"
    }
   ],
   "source": [
    "np.bincount(model.labels_)"
   ]
  },
  {
   "cell_type": "markdown",
   "id": "sudden-beatles",
   "metadata": {},
   "source": [
    "Age vs clusters:\n",
    "(Clusers 2, 3 and 4 are treated as same cluster)"
   ]
  },
  {
   "cell_type": "code",
   "execution_count": 40,
   "id": "parental-isolation",
   "metadata": {},
   "outputs": [],
   "source": [
    "labels = []\n",
    "for l in model.labels_:\n",
    "    if(l == 0):\n",
    "        labels.append(0)\n",
    "    else:\n",
    "        labels.append(1)\n",
    "labels_ = np.array(labels)"
   ]
  },
  {
   "cell_type": "code",
   "execution_count": 41,
   "id": "offshore-salvation",
   "metadata": {},
   "outputs": [
    {
     "data": {
      "text/plain": [
       "<matplotlib.legend.Legend at 0x7f9b3f0f8fa0>"
      ]
     },
     "execution_count": 41,
     "metadata": {},
     "output_type": "execute_result"
    },
    {
     "data": {
      "image/png": "[encoded data removed]",
      "text/plain": [
       "<Figure size 1080x576 with 2 Axes>"
      ]
     },
     "metadata": {
      "needs_background": "light"
     },
     "output_type": "display_data"
    }
   ],
   "source": [
    "k = 2\n",
    "fig, (ax1, ax2) = plt.subplots(1, 2, figsize=(15, 8))\n",
    "fig.suptitle('Cluster vs Age')\n",
    "cluster = ['cluster ' + str(i+1) for i in range(k+1)]\n",
    "\n",
    "for i in range(k):\n",
    "    ax1.scatter(reduced_data[labels_ == i, 0],\n",
    "                reduced_data[labels_ == i, 1], \n",
    "                s=10, color=colors[i], \n",
    "                label=f' {cluster[i]}')\n",
    "ax1.legend()\n",
    "\n",
    "ages = df.age.unique()\n",
    "\n",
    "i = 0\n",
    "for a in ages:\n",
    "    ids = df.index[df['age'] == a].tolist()\n",
    "    ax2.scatter(np.array(reduced_data)[ids, 0],\n",
    "                np.array(reduced_data)[ids, 1], \n",
    "                s=10, color=colors[i], \n",
    "                label=f' {ages[i]}')\n",
    "    i+=1\n",
    "ax2.legend()"
   ]
  },
  {
   "cell_type": "code",
   "execution_count": 44,
   "id": "adolescent-appraisal",
   "metadata": {},
   "outputs": [
    {
     "data": {
      "text/plain": [
       "['Renaissance',\n",
       " 'Renaissance',\n",
       " 'Renaissance',\n",
       " 'Renaissance',\n",
       " 'Renaissance',\n",
       " 'Renaissance',\n",
       " 'Renaissance',\n",
       " 'Renaissance',\n",
       " 'Renaissance',\n",
       " 'Renaissance',\n",
       " 'Renaissance',\n",
       " 'Renaissance',\n",
       " 'Renaissance',\n",
       " 'Renaissance',\n",
       " 'Renaissance',\n",
       " 'Renaissance',\n",
       " 'Renaissance',\n",
       " 'Renaissance',\n",
       " 'Renaissance',\n",
       " 'Renaissance',\n",
       " 'Renaissance',\n",
       " 'Renaissance',\n",
       " 'Renaissance',\n",
       " 'Renaissance',\n",
       " 'Renaissance',\n",
       " 'Renaissance',\n",
       " 'Renaissance',\n",
       " 'Renaissance',\n",
       " 'Renaissance',\n",
       " 'Renaissance',\n",
       " 'Renaissance',\n",
       " 'Renaissance',\n",
       " 'Renaissance',\n",
       " 'Renaissance',\n",
       " 'Renaissance',\n",
       " 'Renaissance',\n",
       " 'Renaissance',\n",
       " 'Renaissance',\n",
       " 'Renaissance',\n",
       " 'Renaissance',\n",
       " 'Renaissance',\n",
       " 'Renaissance',\n",
       " 'Renaissance',\n",
       " 'Renaissance',\n",
       " 'Renaissance',\n",
       " 'Renaissance',\n",
       " 'Renaissance',\n",
       " 'Renaissance',\n",
       " 'Renaissance',\n",
       " 'Renaissance',\n",
       " 'Renaissance',\n",
       " 'Renaissance',\n",
       " 'Renaissance',\n",
       " 'Renaissance',\n",
       " 'Renaissance',\n",
       " 'Renaissance',\n",
       " 'Renaissance',\n",
       " 'Renaissance',\n",
       " 'Renaissance',\n",
       " 'Renaissance',\n",
       " 'Renaissance',\n",
       " 'Renaissance',\n",
       " 'Renaissance',\n",
       " 'Renaissance',\n",
       " 'Renaissance',\n",
       " 'Renaissance',\n",
       " 'Renaissance',\n",
       " 'Renaissance',\n",
       " 'Renaissance',\n",
       " 'Renaissance',\n",
       " 'Renaissance',\n",
       " 'Renaissance',\n",
       " 'Renaissance',\n",
       " 'Renaissance',\n",
       " 'Renaissance',\n",
       " 'Renaissance',\n",
       " 'Renaissance',\n",
       " 'Renaissance',\n",
       " 'Renaissance',\n",
       " 'Renaissance',\n",
       " 'Renaissance',\n",
       " 'Renaissance',\n",
       " 'Renaissance',\n",
       " 'Renaissance',\n",
       " 'Renaissance',\n",
       " 'Renaissance',\n",
       " 'Renaissance',\n",
       " 'Renaissance',\n",
       " 'Renaissance',\n",
       " 'Renaissance',\n",
       " 'Renaissance',\n",
       " 'Renaissance',\n",
       " 'Renaissance',\n",
       " 'Renaissance',\n",
       " 'Renaissance',\n",
       " 'Renaissance',\n",
       " 'Renaissance',\n",
       " 'Renaissance',\n",
       " 'Renaissance',\n",
       " 'Renaissance',\n",
       " 'Renaissance',\n",
       " 'Renaissance',\n",
       " 'Renaissance',\n",
       " 'Renaissance',\n",
       " 'Renaissance',\n",
       " 'Renaissance',\n",
       " 'Renaissance',\n",
       " 'Renaissance',\n",
       " 'Renaissance',\n",
       " 'Renaissance',\n",
       " 'Renaissance',\n",
       " 'Renaissance',\n",
       " 'Renaissance',\n",
       " 'Renaissance',\n",
       " 'Renaissance',\n",
       " 'Renaissance',\n",
       " 'Renaissance',\n",
       " 'Renaissance',\n",
       " 'Renaissance',\n",
       " 'Renaissance',\n",
       " 'Renaissance',\n",
       " 'Renaissance',\n",
       " 'Renaissance',\n",
       " 'Renaissance',\n",
       " 'Renaissance',\n",
       " 'Renaissance',\n",
       " 'Renaissance',\n",
       " 'Renaissance',\n",
       " 'Renaissance',\n",
       " 'Renaissance',\n",
       " 'Renaissance',\n",
       " 'Renaissance',\n",
       " 'Renaissance',\n",
       " 'Renaissance',\n",
       " 'Renaissance',\n",
       " 'Renaissance',\n",
       " 'Renaissance',\n",
       " 'Renaissance',\n",
       " 'Renaissance',\n",
       " 'Renaissance',\n",
       " 'Renaissance',\n",
       " 'Renaissance',\n",
       " 'Renaissance',\n",
       " 'Renaissance',\n",
       " 'Renaissance',\n",
       " 'Renaissance',\n",
       " 'Renaissance',\n",
       " 'Renaissance',\n",
       " 'Renaissance',\n",
       " 'Renaissance',\n",
       " 'Renaissance',\n",
       " 'Renaissance',\n",
       " 'Renaissance',\n",
       " 'Renaissance',\n",
       " 'Renaissance',\n",
       " 'Renaissance',\n",
       " 'Renaissance',\n",
       " 'Renaissance',\n",
       " 'Renaissance',\n",
       " 'Renaissance',\n",
       " 'Renaissance',\n",
       " 'Renaissance',\n",
       " 'Renaissance',\n",
       " 'Renaissance',\n",
       " 'Renaissance',\n",
       " 'Renaissance',\n",
       " 'Renaissance',\n",
       " 'Renaissance',\n",
       " 'Renaissance',\n",
       " 'Renaissance',\n",
       " 'Renaissance',\n",
       " 'Renaissance',\n",
       " 'Renaissance',\n",
       " 'Renaissance',\n",
       " 'Renaissance',\n",
       " 'Renaissance',\n",
       " 'Renaissance',\n",
       " 'Renaissance',\n",
       " 'Renaissance',\n",
       " 'Renaissance',\n",
       " 'Renaissance',\n",
       " 'Renaissance',\n",
       " 'Renaissance',\n",
       " 'Renaissance',\n",
       " 'Renaissance',\n",
       " 'Renaissance',\n",
       " 'Renaissance',\n",
       " 'Renaissance',\n",
       " 'Renaissance',\n",
       " 'Renaissance',\n",
       " 'Renaissance',\n",
       " 'Renaissance',\n",
       " 'Renaissance',\n",
       " 'Renaissance',\n",
       " 'Renaissance',\n",
       " 'Renaissance',\n",
       " 'Renaissance',\n",
       " 'Renaissance',\n",
       " 'Renaissance',\n",
       " 'Renaissance',\n",
       " 'Renaissance',\n",
       " 'Renaissance',\n",
       " 'Renaissance',\n",
       " 'Renaissance',\n",
       " 'Renaissance',\n",
       " 'Renaissance',\n",
       " 'Renaissance',\n",
       " 'Renaissance',\n",
       " 'Renaissance',\n",
       " 'Renaissance',\n",
       " 'Renaissance',\n",
       " 'Renaissance',\n",
       " 'Renaissance',\n",
       " 'Renaissance',\n",
       " 'Renaissance',\n",
       " 'Renaissance',\n",
       " 'Renaissance',\n",
       " 'Renaissance',\n",
       " 'Renaissance',\n",
       " 'Renaissance',\n",
       " 'Renaissance',\n",
       " 'Renaissance',\n",
       " 'Renaissance',\n",
       " 'Renaissance',\n",
       " 'Renaissance',\n",
       " 'Renaissance',\n",
       " 'Renaissance',\n",
       " 'Renaissance',\n",
       " 'Renaissance',\n",
       " 'Renaissance',\n",
       " 'Renaissance',\n",
       " 'Renaissance',\n",
       " 'Renaissance',\n",
       " 'Renaissance',\n",
       " 'Renaissance',\n",
       " 'Renaissance',\n",
       " 'Renaissance',\n",
       " 'Renaissance',\n",
       " 'Renaissance',\n",
       " 'Renaissance',\n",
       " 'Renaissance',\n",
       " 'Renaissance',\n",
       " 'Renaissance',\n",
       " 'Renaissance',\n",
       " 'Renaissance',\n",
       " 'Renaissance',\n",
       " 'Renaissance',\n",
       " 'Renaissance',\n",
       " 'Renaissance',\n",
       " 'Renaissance',\n",
       " 'Renaissance',\n",
       " 'Renaissance',\n",
       " 'Renaissance',\n",
       " 'Renaissance',\n",
       " 'Renaissance',\n",
       " 'Renaissance',\n",
       " 'Renaissance',\n",
       " 'Renaissance',\n",
       " 'Renaissance',\n",
       " 'Renaissance',\n",
       " 'Renaissance',\n",
       " 'Renaissance',\n",
       " 'Renaissance',\n",
       " 'Renaissance',\n",
       " 'Renaissance',\n",
       " 'Renaissance',\n",
       " 'Renaissance',\n",
       " 'Renaissance',\n",
       " 'Renaissance',\n",
       " 'Renaissance',\n",
       " 'Renaissance',\n",
       " 'Renaissance',\n",
       " 'Renaissance',\n",
       " 'Renaissance',\n",
       " 'Renaissance',\n",
       " 'Renaissance',\n",
       " 'Renaissance',\n",
       " 'Renaissance',\n",
       " 'Renaissance',\n",
       " 'Renaissance',\n",
       " 'Renaissance',\n",
       " 'Renaissance',\n",
       " 'Renaissance',\n",
       " 'Renaissance',\n",
       " 'Renaissance',\n",
       " 'Renaissance',\n",
       " 'Renaissance',\n",
       " 'Modern',\n",
       " 'Renaissance',\n",
       " 'Renaissance',\n",
       " 'Renaissance',\n",
       " 'Renaissance',\n",
       " 'Renaissance',\n",
       " 'Renaissance',\n",
       " 'Renaissance',\n",
       " 'Renaissance',\n",
       " 'Renaissance',\n",
       " 'Renaissance',\n",
       " 'Modern',\n",
       " 'Modern',\n",
       " 'Modern',\n",
       " 'Modern',\n",
       " 'Modern',\n",
       " 'Modern',\n",
       " 'Modern',\n",
       " 'Renaissance',\n",
       " 'Renaissance',\n",
       " 'Renaissance',\n",
       " 'Modern',\n",
       " 'Modern',\n",
       " 'Renaissance',\n",
       " 'Renaissance',\n",
       " 'Renaissance',\n",
       " 'Modern',\n",
       " 'Renaissance',\n",
       " 'Renaissance',\n",
       " 'Modern',\n",
       " 'Renaissance',\n",
       " 'Renaissance',\n",
       " 'Modern',\n",
       " 'Renaissance',\n",
       " 'Renaissance',\n",
       " 'Renaissance',\n",
       " 'Renaissance',\n",
       " 'Renaissance',\n",
       " 'Renaissance',\n",
       " 'Modern',\n",
       " 'Modern',\n",
       " 'Modern',\n",
       " 'Renaissance',\n",
       " 'Renaissance',\n",
       " 'Renaissance',\n",
       " 'Renaissance',\n",
       " 'Renaissance',\n",
       " 'Modern',\n",
       " 'Renaissance',\n",
       " 'Renaissance',\n",
       " 'Renaissance',\n",
       " 'Renaissance',\n",
       " 'Modern',\n",
       " 'Renaissance',\n",
       " 'Renaissance',\n",
       " 'Renaissance',\n",
       " 'Renaissance',\n",
       " 'Renaissance',\n",
       " 'Renaissance',\n",
       " 'Renaissance',\n",
       " 'Renaissance',\n",
       " 'Renaissance',\n",
       " 'Renaissance',\n",
       " 'Modern',\n",
       " 'Renaissance',\n",
       " 'Renaissance',\n",
       " 'Renaissance',\n",
       " 'Modern',\n",
       " 'Modern',\n",
       " 'Modern',\n",
       " 'Modern',\n",
       " 'Modern',\n",
       " 'Modern',\n",
       " 'Renaissance',\n",
       " 'Renaissance',\n",
       " 'Modern',\n",
       " 'Renaissance',\n",
       " 'Modern',\n",
       " 'Modern',\n",
       " 'Modern',\n",
       " 'Modern',\n",
       " 'Modern',\n",
       " 'Modern',\n",
       " 'Modern',\n",
       " 'Modern',\n",
       " 'Modern',\n",
       " 'Modern',\n",
       " 'Modern',\n",
       " 'Renaissance',\n",
       " 'Modern',\n",
       " 'Renaissance',\n",
       " 'Modern',\n",
       " 'Modern',\n",
       " 'Modern',\n",
       " 'Modern',\n",
       " 'Modern',\n",
       " 'Renaissance',\n",
       " 'Modern',\n",
       " 'Renaissance',\n",
       " 'Renaissance',\n",
       " 'Modern',\n",
       " 'Renaissance',\n",
       " 'Modern',\n",
       " 'Modern',\n",
       " 'Modern',\n",
       " 'Modern',\n",
       " 'Renaissance',\n",
       " 'Modern',\n",
       " 'Modern',\n",
       " 'Renaissance',\n",
       " 'Renaissance',\n",
       " 'Renaissance',\n",
       " 'Modern',\n",
       " 'Renaissance',\n",
       " 'Renaissance',\n",
       " 'Modern',\n",
       " 'Renaissance',\n",
       " 'Modern',\n",
       " 'Modern',\n",
       " 'Renaissance',\n",
       " 'Renaissance',\n",
       " 'Renaissance',\n",
       " 'Renaissance',\n",
       " 'Renaissance',\n",
       " 'Renaissance',\n",
       " 'Renaissance',\n",
       " 'Modern',\n",
       " 'Renaissance',\n",
       " 'Modern',\n",
       " 'Renaissance',\n",
       " 'Modern',\n",
       " 'Modern',\n",
       " 'Renaissance',\n",
       " 'Renaissance',\n",
       " 'Renaissance',\n",
       " 'Renaissance',\n",
       " 'Modern',\n",
       " 'Renaissance',\n",
       " 'Renaissance',\n",
       " 'Modern',\n",
       " 'Renaissance',\n",
       " 'Renaissance',\n",
       " 'Renaissance',\n",
       " 'Renaissance',\n",
       " 'Renaissance',\n",
       " 'Renaissance',\n",
       " 'Renaissance',\n",
       " 'Modern',\n",
       " 'Renaissance',\n",
       " 'Renaissance',\n",
       " 'Modern',\n",
       " 'Modern',\n",
       " 'Renaissance',\n",
       " 'Renaissance',\n",
       " 'Renaissance',\n",
       " 'Renaissance',\n",
       " 'Renaissance',\n",
       " 'Renaissance',\n",
       " 'Renaissance',\n",
       " 'Modern',\n",
       " 'Renaissance',\n",
       " 'Renaissance',\n",
       " 'Modern',\n",
       " 'Modern',\n",
       " 'Renaissance',\n",
       " 'Renaissance',\n",
       " 'Renaissance',\n",
       " 'Renaissance',\n",
       " 'Renaissance',\n",
       " 'Renaissance',\n",
       " 'Renaissance',\n",
       " 'Modern',\n",
       " 'Renaissance',\n",
       " 'Renaissance',\n",
       " 'Renaissance',\n",
       " 'Renaissance',\n",
       " 'Renaissance',\n",
       " 'Modern',\n",
       " 'Modern',\n",
       " 'Modern',\n",
       " 'Modern',\n",
       " 'Renaissance',\n",
       " 'Renaissance',\n",
       " 'Renaissance',\n",
       " 'Modern',\n",
       " 'Modern',\n",
       " 'Renaissance',\n",
       " 'Modern',\n",
       " 'Renaissance',\n",
       " 'Modern',\n",
       " 'Modern',\n",
       " 'Modern',\n",
       " 'Modern',\n",
       " 'Modern',\n",
       " 'Modern',\n",
       " 'Modern',\n",
       " 'Modern',\n",
       " 'Renaissance',\n",
       " 'Renaissance',\n",
       " 'Renaissance',\n",
       " 'Renaissance',\n",
       " 'Renaissance',\n",
       " 'Renaissance',\n",
       " 'Modern',\n",
       " 'Renaissance',\n",
       " 'Renaissance',\n",
       " 'Renaissance',\n",
       " 'Renaissance',\n",
       " 'Renaissance',\n",
       " 'Renaissance',\n",
       " 'Renaissance',\n",
       " 'Renaissance',\n",
       " 'Renaissance',\n",
       " 'Renaissance',\n",
       " 'Renaissance',\n",
       " 'Renaissance',\n",
       " 'Renaissance',\n",
       " 'Renaissance',\n",
       " 'Renaissance']"
      ]
     },
     "execution_count": 44,
     "metadata": {},
     "output_type": "execute_result"
    }
   ],
   "source": [
    "labels = []\n",
    "for l in labels_:\n",
    "    if l == 0:\n",
    "        labels.append('Renaissance')\n",
    "    else:\n",
    "        labels.append('Modern')\n",
    "labels"
   ]
  },
  {
   "cell_type": "code",
   "execution_count": 45,
   "id": "hydraulic-floating",
   "metadata": {},
   "outputs": [
    {
     "name": "stdout",
     "output_type": "stream",
     "text": [
      "[[ 84 138]\n",
      " [  0 284]]\n",
      "              precision    recall  f1-score   support\n",
      "\n",
      "      Modern       1.00      0.38      0.55       222\n",
      " Renaissance       0.67      1.00      0.80       284\n",
      "\n",
      "    accuracy                           0.73       506\n",
      "   macro avg       0.84      0.69      0.68       506\n",
      "weighted avg       0.82      0.73      0.69       506\n",
      "\n"
     ]
    }
   ],
   "source": [
    "print(confusion_matrix(df['age'], labels))\n",
    "print(classification_report(df['age'], labels, zero_division=True))"
   ]
  },
  {
   "cell_type": "code",
   "execution_count": null,
   "id": "considerable-intro",
   "metadata": {},
   "outputs": [],
   "source": []
  },
  {
   "cell_type": "code",
   "execution_count": null,
   "id": "anticipated-confusion",
   "metadata": {},
   "outputs": [],
   "source": []
  },
  {
   "cell_type": "code",
   "execution_count": null,
   "id": "welcome-foster",
   "metadata": {},
   "outputs": [],
   "source": []
  }
 ],
 "metadata": {
  "kernelspec": {
   "display_name": "Python 3",
   "language": "python",
   "name": "python3"
  },
  "language_info": {
   "codemirror_mode": {
    "name": "ipython",
    "version": 3
   },
   "file_extension": ".py",
   "mimetype": "text/x-python",
   "name": "python",
   "nbconvert_exporter": "python",
   "pygments_lexer": "ipython3",
   "version": "3.8.10"
  }
 },
 "nbformat": 4,
 "nbformat_minor": 5
}
