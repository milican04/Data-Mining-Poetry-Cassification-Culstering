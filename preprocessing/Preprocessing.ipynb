{
 "cells": [
  {
   "cell_type": "markdown",
   "id": "regulation-blogger",
   "metadata": {},
   "source": [
    "# Data analysis and preprocessing"
   ]
  },
  {
   "cell_type": "code",
   "execution_count": 1,
   "id": "coupled-shareware",
   "metadata": {},
   "outputs": [],
   "source": [
    "import pandas as pd\n",
    "import numpy as np\n",
    "import re\n",
    "import string\n",
    "import operator\n",
    "import matplotlib.pyplot as plt\n",
    "\n",
    "import nltk\n",
    "from nltk.corpus import stopwords\n",
    "\n",
    "from sklearn.feature_extraction.text import CountVectorizer, TfidfVectorizer\n",
    "from sklearn.preprocessing import LabelEncoder\n",
    "\n",
    "from sklearn.model_selection import train_test_split"
   ]
  },
  {
   "cell_type": "code",
   "execution_count": 2,
   "id": "living-first",
   "metadata": {
    "scrolled": true
   },
   "outputs": [
    {
     "data": {
      "text/html": [
       "<div>\n",
       "<style scoped>\n",
       "    .dataframe tbody tr th:only-of-type {\n",
       "        vertical-align: middle;\n",
       "    }\n",
       "\n",
       "    .dataframe tbody tr th {\n",
       "        vertical-align: top;\n",
       "    }\n",
       "\n",
       "    .dataframe thead th {\n",
       "        text-align: right;\n",
       "    }\n",
       "</style>\n",
       "<table border=\"1\" class=\"dataframe\">\n",
       "  <thead>\n",
       "    <tr style=\"text-align: right;\">\n",
       "      <th></th>\n",
       "      <th>author</th>\n",
       "      <th>content</th>\n",
       "      <th>poem name</th>\n",
       "      <th>age</th>\n",
       "      <th>type</th>\n",
       "    </tr>\n",
       "  </thead>\n",
       "  <tbody>\n",
       "    <tr>\n",
       "      <th>count</th>\n",
       "      <td>573</td>\n",
       "      <td>573</td>\n",
       "      <td>571</td>\n",
       "      <td>573</td>\n",
       "      <td>573</td>\n",
       "    </tr>\n",
       "    <tr>\n",
       "      <th>unique</th>\n",
       "      <td>67</td>\n",
       "      <td>506</td>\n",
       "      <td>508</td>\n",
       "      <td>2</td>\n",
       "      <td>3</td>\n",
       "    </tr>\n",
       "    <tr>\n",
       "      <th>top</th>\n",
       "      <td>WILLIAM SHAKESPEARE</td>\n",
       "      <td>Originally published in Poetry, March 1914.</td>\n",
       "      <td>Canto IV</td>\n",
       "      <td>Renaissance</td>\n",
       "      <td>Love</td>\n",
       "    </tr>\n",
       "    <tr>\n",
       "      <th>freq</th>\n",
       "      <td>71</td>\n",
       "      <td>4</td>\n",
       "      <td>3</td>\n",
       "      <td>315</td>\n",
       "      <td>326</td>\n",
       "    </tr>\n",
       "  </tbody>\n",
       "</table>\n",
       "</div>"
      ],
      "text/plain": [
       "                     author                                      content  \\\n",
       "count                   573                                          573   \n",
       "unique                   67                                          506   \n",
       "top     WILLIAM SHAKESPEARE  Originally published in Poetry, March 1914.   \n",
       "freq                     71                                            4   \n",
       "\n",
       "       poem name          age  type  \n",
       "count        571          573   573  \n",
       "unique       508            2     3  \n",
       "top     Canto IV  Renaissance  Love  \n",
       "freq           3          315   326  "
      ]
     },
     "execution_count": 2,
     "metadata": {},
     "output_type": "execute_result"
    }
   ],
   "source": [
    "df = pd.read_csv('../data/all.csv')\n",
    "df.describe()"
   ]
  },
  {
   "cell_type": "markdown",
   "id": "involved-milan",
   "metadata": {},
   "source": [
    "First five instances of our data:"
   ]
  },
  {
   "cell_type": "code",
   "execution_count": 3,
   "id": "aggregate-edinburgh",
   "metadata": {},
   "outputs": [
    {
     "data": {
      "text/html": [
       "<div>\n",
       "<style scoped>\n",
       "    .dataframe tbody tr th:only-of-type {\n",
       "        vertical-align: middle;\n",
       "    }\n",
       "\n",
       "    .dataframe tbody tr th {\n",
       "        vertical-align: top;\n",
       "    }\n",
       "\n",
       "    .dataframe thead th {\n",
       "        text-align: right;\n",
       "    }\n",
       "</style>\n",
       "<table border=\"1\" class=\"dataframe\">\n",
       "  <thead>\n",
       "    <tr style=\"text-align: right;\">\n",
       "      <th></th>\n",
       "      <th>author</th>\n",
       "      <th>content</th>\n",
       "      <th>poem name</th>\n",
       "      <th>age</th>\n",
       "      <th>type</th>\n",
       "    </tr>\n",
       "  </thead>\n",
       "  <tbody>\n",
       "    <tr>\n",
       "      <th>0</th>\n",
       "      <td>WILLIAM SHAKESPEARE</td>\n",
       "      <td>Let the bird of loudest lay\\nOn the sole Arabi...</td>\n",
       "      <td>The Phoenix and the Turtle</td>\n",
       "      <td>Renaissance</td>\n",
       "      <td>Mythology &amp; Folklore</td>\n",
       "    </tr>\n",
       "    <tr>\n",
       "      <th>1</th>\n",
       "      <td>DUCHESS OF NEWCASTLE MARGARET CAVENDISH</td>\n",
       "      <td>Sir Charles into my chamber coming in,\\nWhen I...</td>\n",
       "      <td>An Epilogue to the Above</td>\n",
       "      <td>Renaissance</td>\n",
       "      <td>Mythology &amp; Folklore</td>\n",
       "    </tr>\n",
       "    <tr>\n",
       "      <th>2</th>\n",
       "      <td>THOMAS BASTARD</td>\n",
       "      <td>Our vice runs beyond all that old men saw,\\nAn...</td>\n",
       "      <td>Book 7, Epigram 42</td>\n",
       "      <td>Renaissance</td>\n",
       "      <td>Mythology &amp; Folklore</td>\n",
       "    </tr>\n",
       "    <tr>\n",
       "      <th>3</th>\n",
       "      <td>EDMUND SPENSER</td>\n",
       "      <td>Lo I the man, whose Muse whilome did maske,\\nA...</td>\n",
       "      <td>from The Faerie Queene: Book I, Canto I</td>\n",
       "      <td>Renaissance</td>\n",
       "      <td>Mythology &amp; Folklore</td>\n",
       "    </tr>\n",
       "    <tr>\n",
       "      <th>4</th>\n",
       "      <td>RICHARD BARNFIELD</td>\n",
       "      <td>Long have I longd to see my love againe,\\nStil...</td>\n",
       "      <td>Sonnet 16</td>\n",
       "      <td>Renaissance</td>\n",
       "      <td>Mythology &amp; Folklore</td>\n",
       "    </tr>\n",
       "  </tbody>\n",
       "</table>\n",
       "</div>"
      ],
      "text/plain": [
       "                                    author  \\\n",
       "0                      WILLIAM SHAKESPEARE   \n",
       "1  DUCHESS OF NEWCASTLE MARGARET CAVENDISH   \n",
       "2                           THOMAS BASTARD   \n",
       "3                           EDMUND SPENSER   \n",
       "4                        RICHARD BARNFIELD   \n",
       "\n",
       "                                             content  \\\n",
       "0  Let the bird of loudest lay\\nOn the sole Arabi...   \n",
       "1  Sir Charles into my chamber coming in,\\nWhen I...   \n",
       "2  Our vice runs beyond all that old men saw,\\nAn...   \n",
       "3  Lo I the man, whose Muse whilome did maske,\\nA...   \n",
       "4  Long have I longd to see my love againe,\\nStil...   \n",
       "\n",
       "                                 poem name          age                  type  \n",
       "0               The Phoenix and the Turtle  Renaissance  Mythology & Folklore  \n",
       "1                 An Epilogue to the Above  Renaissance  Mythology & Folklore  \n",
       "2                       Book 7, Epigram 42  Renaissance  Mythology & Folklore  \n",
       "3  from The Faerie Queene: Book I, Canto I  Renaissance  Mythology & Folklore  \n",
       "4                                Sonnet 16  Renaissance  Mythology & Folklore  "
      ]
     },
     "execution_count": 3,
     "metadata": {},
     "output_type": "execute_result"
    }
   ],
   "source": [
    "df.head()"
   ]
  },
  {
   "cell_type": "markdown",
   "id": "annual-coalition",
   "metadata": {},
   "source": [
    "Unique values of variable age:"
   ]
  },
  {
   "cell_type": "code",
   "execution_count": 4,
   "id": "processed-baghdad",
   "metadata": {
    "scrolled": true
   },
   "outputs": [
    {
     "data": {
      "text/plain": [
       "array(['Renaissance', 'Modern'], dtype=object)"
      ]
     },
     "execution_count": 4,
     "metadata": {},
     "output_type": "execute_result"
    }
   ],
   "source": [
    "df['age'].unique()"
   ]
  },
  {
   "cell_type": "markdown",
   "id": "nervous-worcester",
   "metadata": {},
   "source": [
    "Unique values of variable type:"
   ]
  },
  {
   "cell_type": "code",
   "execution_count": 5,
   "id": "innocent-engagement",
   "metadata": {},
   "outputs": [
    {
     "data": {
      "text/plain": [
       "array(['Mythology & Folklore', 'Nature', 'Love'], dtype=object)"
      ]
     },
     "execution_count": 5,
     "metadata": {},
     "output_type": "execute_result"
    }
   ],
   "source": [
    "df['type'].unique()"
   ]
  },
  {
   "cell_type": "code",
   "execution_count": 6,
   "id": "altered-contrast",
   "metadata": {},
   "outputs": [
    {
     "data": {
      "image/png": "[encoded data removed]",
      "text/plain": [
       "<Figure size 360x360 with 1 Axes>"
      ]
     },
     "metadata": {},
     "output_type": "display_data"
    },
    {
     "data": {
      "image/png": "[encoded data removed]",
      "text/plain": [
       "<Figure size 360x360 with 1 Axes>"
      ]
     },
     "metadata": {},
     "output_type": "display_data"
    }
   ],
   "source": [
    "for param in ['age', 'type']:\n",
    "    counted = []\n",
    "    unique = df[param].unique()\n",
    "    for u in unique:\n",
    "        counted.append(operator.countOf(df[param], u))\n",
    "    \n",
    "#     plt.style.use('seaborn-pastel')\n",
    "    fig1, ax1 = plt.subplots(figsize=(5,5), facecolor='white')\n",
    "    ax1.pie(counted, labels=unique, autopct='%1.1f%%', startangle=180)\n",
    "    ax1.axis('equal')\n",
    "    plt.title(\"Representation of \" + param + \" atribute\", pad=30, color='darkblue')\n",
    "    plt.show()"
   ]
  },
  {
   "cell_type": "markdown",
   "id": "missing-couple",
   "metadata": {},
   "source": [
    "## Data analysis"
   ]
  },
  {
   "cell_type": "markdown",
   "id": "capital-daily",
   "metadata": {},
   "source": [
    "Atributes with missing values:"
   ]
  },
  {
   "cell_type": "code",
   "execution_count": 7,
   "id": "labeled-carol",
   "metadata": {
    "scrolled": false
   },
   "outputs": [
    {
     "data": {
      "text/plain": [
       "author       0\n",
       "content      0\n",
       "poem name    2\n",
       "age          0\n",
       "type         0\n",
       "dtype: int64"
      ]
     },
     "execution_count": 7,
     "metadata": {},
     "output_type": "execute_result"
    }
   ],
   "source": [
    "df.isnull().sum()"
   ]
  },
  {
   "cell_type": "markdown",
   "id": "informational-auditor",
   "metadata": {},
   "source": [
    "Duplicated data:"
   ]
  },
  {
   "cell_type": "code",
   "execution_count": 8,
   "id": "dying-klein",
   "metadata": {
    "scrolled": true
   },
   "outputs": [
    {
     "data": {
      "text/html": [
       "<div>\n",
       "<style scoped>\n",
       "    .dataframe tbody tr th:only-of-type {\n",
       "        vertical-align: middle;\n",
       "    }\n",
       "\n",
       "    .dataframe tbody tr th {\n",
       "        vertical-align: top;\n",
       "    }\n",
       "\n",
       "    .dataframe thead th {\n",
       "        text-align: right;\n",
       "    }\n",
       "</style>\n",
       "<table border=\"1\" class=\"dataframe\">\n",
       "  <thead>\n",
       "    <tr style=\"text-align: right;\">\n",
       "      <th></th>\n",
       "      <th>author</th>\n",
       "      <th>content</th>\n",
       "      <th>poem name</th>\n",
       "      <th>age</th>\n",
       "      <th>type</th>\n",
       "    </tr>\n",
       "  </thead>\n",
       "  <tbody>\n",
       "    <tr>\n",
       "      <th>0</th>\n",
       "      <td>WILLIAM SHAKESPEARE</td>\n",
       "      <td>Let the bird of loudest lay\\nOn the sole Arabi...</td>\n",
       "      <td>The Phoenix and the Turtle</td>\n",
       "      <td>Renaissance</td>\n",
       "      <td>Mythology &amp; Folklore</td>\n",
       "    </tr>\n",
       "    <tr>\n",
       "      <th>4</th>\n",
       "      <td>RICHARD BARNFIELD</td>\n",
       "      <td>Long have I longd to see my love againe,\\nStil...</td>\n",
       "      <td>Sonnet 16</td>\n",
       "      <td>Renaissance</td>\n",
       "      <td>Mythology &amp; Folklore</td>\n",
       "    </tr>\n",
       "    <tr>\n",
       "      <th>5</th>\n",
       "      <td>RICHARD BARNFIELD</td>\n",
       "      <td>Cherry-lipt Adonis in his snowie shape,\\n    M...</td>\n",
       "      <td>Sonnet 17</td>\n",
       "      <td>Renaissance</td>\n",
       "      <td>Mythology &amp; Folklore</td>\n",
       "    </tr>\n",
       "    <tr>\n",
       "      <th>6</th>\n",
       "      <td>SIR WALTER RALEGH</td>\n",
       "      <td>Praisd be Dianas fair and harmless light;\\nPra...</td>\n",
       "      <td>Praisd be Dianas Fair and Harmless Light</td>\n",
       "      <td>Renaissance</td>\n",
       "      <td>Mythology &amp; Folklore</td>\n",
       "    </tr>\n",
       "    <tr>\n",
       "      <th>7</th>\n",
       "      <td>QUEEN ELIZABETH I</td>\n",
       "      <td>When I was fair and young, then favor graced m...</td>\n",
       "      <td>When I Was Fair and Young</td>\n",
       "      <td>Renaissance</td>\n",
       "      <td>Mythology &amp; Folklore</td>\n",
       "    </tr>\n",
       "    <tr>\n",
       "      <th>...</th>\n",
       "      <td>...</td>\n",
       "      <td>...</td>\n",
       "      <td>...</td>\n",
       "      <td>...</td>\n",
       "      <td>...</td>\n",
       "    </tr>\n",
       "    <tr>\n",
       "      <th>562</th>\n",
       "      <td>EDGAR LEE MASTERS</td>\n",
       "      <td>Maurice, weep not, I am not here under this pi...</td>\n",
       "      <td>Sarah Brown</td>\n",
       "      <td>Modern</td>\n",
       "      <td>Love</td>\n",
       "    </tr>\n",
       "    <tr>\n",
       "      <th>564</th>\n",
       "      <td>PAUL LAURENCE DUNBAR</td>\n",
       "      <td>Wintah, summah, snow er shine,\\nHit's all de s...</td>\n",
       "      <td>Song (Wintah, summah, snow er shine)</td>\n",
       "      <td>Modern</td>\n",
       "      <td>Love</td>\n",
       "    </tr>\n",
       "    <tr>\n",
       "      <th>569</th>\n",
       "      <td>HART CRANE</td>\n",
       "      <td>Hart Crane, \"Voyages I, II, III, IV, V, VI\" fr...</td>\n",
       "      <td>Voyages</td>\n",
       "      <td>Modern</td>\n",
       "      <td>Love</td>\n",
       "    </tr>\n",
       "    <tr>\n",
       "      <th>571</th>\n",
       "      <td>CARL SANDBURG</td>\n",
       "      <td>Give me hunger,\\nO you gods that sit and give\\...</td>\n",
       "      <td>At a Window</td>\n",
       "      <td>Modern</td>\n",
       "      <td>Love</td>\n",
       "    </tr>\n",
       "    <tr>\n",
       "      <th>572</th>\n",
       "      <td>RICHARD ALDINGTON</td>\n",
       "      <td>Potuia, potuia\\nWhite grave goddess,\\nPity my ...</td>\n",
       "      <td>To a Greek Marble</td>\n",
       "      <td>Modern</td>\n",
       "      <td>Love</td>\n",
       "    </tr>\n",
       "  </tbody>\n",
       "</table>\n",
       "<p>129 rows × 5 columns</p>\n",
       "</div>"
      ],
      "text/plain": [
       "                   author                                            content  \\\n",
       "0     WILLIAM SHAKESPEARE  Let the bird of loudest lay\\nOn the sole Arabi...   \n",
       "4       RICHARD BARNFIELD  Long have I longd to see my love againe,\\nStil...   \n",
       "5       RICHARD BARNFIELD  Cherry-lipt Adonis in his snowie shape,\\n    M...   \n",
       "6       SIR WALTER RALEGH  Praisd be Dianas fair and harmless light;\\nPra...   \n",
       "7       QUEEN ELIZABETH I  When I was fair and young, then favor graced m...   \n",
       "..                    ...                                                ...   \n",
       "562     EDGAR LEE MASTERS  Maurice, weep not, I am not here under this pi...   \n",
       "564  PAUL LAURENCE DUNBAR  Wintah, summah, snow er shine,\\nHit's all de s...   \n",
       "569            HART CRANE  Hart Crane, \"Voyages I, II, III, IV, V, VI\" fr...   \n",
       "571         CARL SANDBURG  Give me hunger,\\nO you gods that sit and give\\...   \n",
       "572     RICHARD ALDINGTON  Potuia, potuia\\nWhite grave goddess,\\nPity my ...   \n",
       "\n",
       "                                    poem name          age  \\\n",
       "0                  The Phoenix and the Turtle  Renaissance   \n",
       "4                                   Sonnet 16  Renaissance   \n",
       "5                                   Sonnet 17  Renaissance   \n",
       "6    Praisd be Dianas Fair and Harmless Light  Renaissance   \n",
       "7                   When I Was Fair and Young  Renaissance   \n",
       "..                                        ...          ...   \n",
       "562                               Sarah Brown       Modern   \n",
       "564      Song (Wintah, summah, snow er shine)       Modern   \n",
       "569                                   Voyages       Modern   \n",
       "571                               At a Window       Modern   \n",
       "572                         To a Greek Marble       Modern   \n",
       "\n",
       "                     type  \n",
       "0    Mythology & Folklore  \n",
       "4    Mythology & Folklore  \n",
       "5    Mythology & Folklore  \n",
       "6    Mythology & Folklore  \n",
       "7    Mythology & Folklore  \n",
       "..                    ...  \n",
       "562                  Love  \n",
       "564                  Love  \n",
       "569                  Love  \n",
       "571                  Love  \n",
       "572                  Love  \n",
       "\n",
       "[129 rows x 5 columns]"
      ]
     },
     "execution_count": 8,
     "metadata": {},
     "output_type": "execute_result"
    }
   ],
   "source": [
    "duplicates = df[df.duplicated(subset='content', keep=False)]\n",
    "duplicates"
   ]
  },
  {
   "cell_type": "markdown",
   "id": "animated-orange",
   "metadata": {},
   "source": [
    "Drop duplicates"
   ]
  },
  {
   "cell_type": "code",
   "execution_count": 9,
   "id": "verified-warrant",
   "metadata": {},
   "outputs": [
    {
     "data": {
      "text/html": [
       "<div>\n",
       "<style scoped>\n",
       "    .dataframe tbody tr th:only-of-type {\n",
       "        vertical-align: middle;\n",
       "    }\n",
       "\n",
       "    .dataframe tbody tr th {\n",
       "        vertical-align: top;\n",
       "    }\n",
       "\n",
       "    .dataframe thead th {\n",
       "        text-align: right;\n",
       "    }\n",
       "</style>\n",
       "<table border=\"1\" class=\"dataframe\">\n",
       "  <thead>\n",
       "    <tr style=\"text-align: right;\">\n",
       "      <th></th>\n",
       "      <th>author</th>\n",
       "      <th>content</th>\n",
       "      <th>poem name</th>\n",
       "      <th>age</th>\n",
       "      <th>type</th>\n",
       "    </tr>\n",
       "  </thead>\n",
       "  <tbody>\n",
       "    <tr>\n",
       "      <th>0</th>\n",
       "      <td>WILLIAM SHAKESPEARE</td>\n",
       "      <td>Let the bird of loudest lay\\nOn the sole Arabi...</td>\n",
       "      <td>The Phoenix and the Turtle</td>\n",
       "      <td>Renaissance</td>\n",
       "      <td>Mythology &amp; Folklore</td>\n",
       "    </tr>\n",
       "    <tr>\n",
       "      <th>1</th>\n",
       "      <td>DUCHESS OF NEWCASTLE MARGARET CAVENDISH</td>\n",
       "      <td>Sir Charles into my chamber coming in,\\nWhen I...</td>\n",
       "      <td>An Epilogue to the Above</td>\n",
       "      <td>Renaissance</td>\n",
       "      <td>Mythology &amp; Folklore</td>\n",
       "    </tr>\n",
       "    <tr>\n",
       "      <th>2</th>\n",
       "      <td>THOMAS BASTARD</td>\n",
       "      <td>Our vice runs beyond all that old men saw,\\nAn...</td>\n",
       "      <td>Book 7, Epigram 42</td>\n",
       "      <td>Renaissance</td>\n",
       "      <td>Mythology &amp; Folklore</td>\n",
       "    </tr>\n",
       "    <tr>\n",
       "      <th>3</th>\n",
       "      <td>EDMUND SPENSER</td>\n",
       "      <td>Lo I the man, whose Muse whilome did maske,\\nA...</td>\n",
       "      <td>from The Faerie Queene: Book I, Canto I</td>\n",
       "      <td>Renaissance</td>\n",
       "      <td>Mythology &amp; Folklore</td>\n",
       "    </tr>\n",
       "    <tr>\n",
       "      <th>4</th>\n",
       "      <td>RICHARD BARNFIELD</td>\n",
       "      <td>Long have I longd to see my love againe,\\nStil...</td>\n",
       "      <td>Sonnet 16</td>\n",
       "      <td>Renaissance</td>\n",
       "      <td>Mythology &amp; Folklore</td>\n",
       "    </tr>\n",
       "    <tr>\n",
       "      <th>...</th>\n",
       "      <td>...</td>\n",
       "      <td>...</td>\n",
       "      <td>...</td>\n",
       "      <td>...</td>\n",
       "      <td>...</td>\n",
       "    </tr>\n",
       "    <tr>\n",
       "      <th>565</th>\n",
       "      <td>LOUISE BOGAN</td>\n",
       "      <td>This youth too long has heard the break\\nOf wa...</td>\n",
       "      <td>A Tale</td>\n",
       "      <td>Modern</td>\n",
       "      <td>Love</td>\n",
       "    </tr>\n",
       "    <tr>\n",
       "      <th>566</th>\n",
       "      <td>D. H. LAWRENCE</td>\n",
       "      <td>Making his advances\\nHe does not look at her, ...</td>\n",
       "      <td>Tortoise Gallantry</td>\n",
       "      <td>Modern</td>\n",
       "      <td>Love</td>\n",
       "    </tr>\n",
       "    <tr>\n",
       "      <th>567</th>\n",
       "      <td>D. H. LAWRENCE</td>\n",
       "      <td>I thought he was dumb,\\nI said he was dumb,\\nY...</td>\n",
       "      <td>Tortoise Shout</td>\n",
       "      <td>Modern</td>\n",
       "      <td>Love</td>\n",
       "    </tr>\n",
       "    <tr>\n",
       "      <th>568</th>\n",
       "      <td>SARA TEASDALE</td>\n",
       "      <td>With the man I love who loves me not,\\nI walke...</td>\n",
       "      <td>Union Square</td>\n",
       "      <td>Modern</td>\n",
       "      <td>Love</td>\n",
       "    </tr>\n",
       "    <tr>\n",
       "      <th>570</th>\n",
       "      <td>WILLIAM BUTLER YEATS</td>\n",
       "      <td>When you are old and grey and full of sleep,\\n...</td>\n",
       "      <td>When You Are Old</td>\n",
       "      <td>Modern</td>\n",
       "      <td>Love</td>\n",
       "    </tr>\n",
       "  </tbody>\n",
       "</table>\n",
       "<p>506 rows × 5 columns</p>\n",
       "</div>"
      ],
      "text/plain": [
       "                                      author  \\\n",
       "0                        WILLIAM SHAKESPEARE   \n",
       "1    DUCHESS OF NEWCASTLE MARGARET CAVENDISH   \n",
       "2                             THOMAS BASTARD   \n",
       "3                             EDMUND SPENSER   \n",
       "4                          RICHARD BARNFIELD   \n",
       "..                                       ...   \n",
       "565                             LOUISE BOGAN   \n",
       "566                           D. H. LAWRENCE   \n",
       "567                           D. H. LAWRENCE   \n",
       "568                            SARA TEASDALE   \n",
       "570                     WILLIAM BUTLER YEATS   \n",
       "\n",
       "                                               content  \\\n",
       "0    Let the bird of loudest lay\\nOn the sole Arabi...   \n",
       "1    Sir Charles into my chamber coming in,\\nWhen I...   \n",
       "2    Our vice runs beyond all that old men saw,\\nAn...   \n",
       "3    Lo I the man, whose Muse whilome did maske,\\nA...   \n",
       "4    Long have I longd to see my love againe,\\nStil...   \n",
       "..                                                 ...   \n",
       "565  This youth too long has heard the break\\nOf wa...   \n",
       "566  Making his advances\\nHe does not look at her, ...   \n",
       "567  I thought he was dumb,\\nI said he was dumb,\\nY...   \n",
       "568  With the man I love who loves me not,\\nI walke...   \n",
       "570  When you are old and grey and full of sleep,\\n...   \n",
       "\n",
       "                                   poem name          age  \\\n",
       "0                 The Phoenix and the Turtle  Renaissance   \n",
       "1                   An Epilogue to the Above  Renaissance   \n",
       "2                         Book 7, Epigram 42  Renaissance   \n",
       "3    from The Faerie Queene: Book I, Canto I  Renaissance   \n",
       "4                                  Sonnet 16  Renaissance   \n",
       "..                                       ...          ...   \n",
       "565                                   A Tale       Modern   \n",
       "566                       Tortoise Gallantry       Modern   \n",
       "567                           Tortoise Shout       Modern   \n",
       "568                             Union Square       Modern   \n",
       "570                         When You Are Old       Modern   \n",
       "\n",
       "                     type  \n",
       "0    Mythology & Folklore  \n",
       "1    Mythology & Folklore  \n",
       "2    Mythology & Folklore  \n",
       "3    Mythology & Folklore  \n",
       "4    Mythology & Folklore  \n",
       "..                    ...  \n",
       "565                  Love  \n",
       "566                  Love  \n",
       "567                  Love  \n",
       "568                  Love  \n",
       "570                  Love  \n",
       "\n",
       "[506 rows x 5 columns]"
      ]
     },
     "execution_count": 9,
     "metadata": {},
     "output_type": "execute_result"
    }
   ],
   "source": [
    "df = df.drop_duplicates(subset='content', keep='first')\n",
    "df"
   ]
  },
  {
   "cell_type": "markdown",
   "id": "dental-twelve",
   "metadata": {},
   "source": [
    "In this project, age and type will be our target variables, so lets take a look into categories we have."
   ]
  },
  {
   "cell_type": "code",
   "execution_count": 10,
   "id": "reported-conjunction",
   "metadata": {},
   "outputs": [
    {
     "data": {
      "image/png": "[encoded data removed]",
      "text/plain": [
       "<Figure size 360x360 with 1 Axes>"
      ]
     },
     "metadata": {},
     "output_type": "display_data"
    },
    {
     "data": {
      "image/png": "[encoded data removed]",
      "text/plain": [
       "<Figure size 360x360 with 1 Axes>"
      ]
     },
     "metadata": {},
     "output_type": "display_data"
    }
   ],
   "source": [
    "for param in ['age', 'type']:\n",
    "    counted = []\n",
    "    unique = df[param].unique()\n",
    "    for u in unique:\n",
    "        counted.append(operator.countOf(df[param], u))\n",
    "    \n",
    "#     plt.style.use('seaborn-pastel')\n",
    "    fig1, ax1 = plt.subplots(figsize=(5,5), facecolor='white')\n",
    "    ax1.pie(counted, labels=unique, autopct='%1.1f%%', startangle=180)\n",
    "    ax1.axis('equal')\n",
    "    plt.title(\"Representation of \" + param + \" atribute\", pad=30, color='darkblue')\n",
    "    plt.show()"
   ]
  },
  {
   "cell_type": "markdown",
   "id": "internal-wheel",
   "metadata": {},
   "source": [
    "## Preprocessing"
   ]
  },
  {
   "cell_type": "markdown",
   "id": "powered-spare",
   "metadata": {},
   "source": [
    "First of all, we are simplifying texts we have."
   ]
  },
  {
   "cell_type": "code",
   "execution_count": 11,
   "id": "union-tolerance",
   "metadata": {},
   "outputs": [],
   "source": [
    "# nltk.download('stopwords')"
   ]
  },
  {
   "cell_type": "code",
   "execution_count": 12,
   "id": "amended-pavilion",
   "metadata": {},
   "outputs": [],
   "source": [
    "#function copied from internet\n",
    "def simplifyText(x):\n",
    "    x = x.lower()\n",
    "    x = re.sub(r'[^\\x00-\\x7f]',r' ',x)\n",
    "    x = x.replace('\\r','')\n",
    "    x = x.replace('\\n','')\n",
    "    x = x.replace('  ','')\n",
    "    x = x.replace('\\'','')\n",
    "    return re.sub(\"[\"+string.punctuation+\"]\", \" \", x)"
   ]
  },
  {
   "cell_type": "code",
   "execution_count": 13,
   "id": "gothic-species",
   "metadata": {
    "scrolled": true
   },
   "outputs": [
    {
     "data": {
      "text/html": [
       "<div>\n",
       "<style scoped>\n",
       "    .dataframe tbody tr th:only-of-type {\n",
       "        vertical-align: middle;\n",
       "    }\n",
       "\n",
       "    .dataframe tbody tr th {\n",
       "        vertical-align: top;\n",
       "    }\n",
       "\n",
       "    .dataframe thead th {\n",
       "        text-align: right;\n",
       "    }\n",
       "</style>\n",
       "<table border=\"1\" class=\"dataframe\">\n",
       "  <thead>\n",
       "    <tr style=\"text-align: right;\">\n",
       "      <th></th>\n",
       "      <th>author</th>\n",
       "      <th>content</th>\n",
       "      <th>poem name</th>\n",
       "      <th>age</th>\n",
       "      <th>type</th>\n",
       "    </tr>\n",
       "  </thead>\n",
       "  <tbody>\n",
       "    <tr>\n",
       "      <th>0</th>\n",
       "      <td>william shakespeare</td>\n",
       "      <td>let the bird of loudest layon the sole arabian...</td>\n",
       "      <td>The Phoenix and the Turtle</td>\n",
       "      <td>Renaissance</td>\n",
       "      <td>Mythology &amp; Folklore</td>\n",
       "    </tr>\n",
       "    <tr>\n",
       "      <th>1</th>\n",
       "      <td>duchess of newcastle margaret cavendish</td>\n",
       "      <td>sir charles into my chamber coming in when i w...</td>\n",
       "      <td>An Epilogue to the Above</td>\n",
       "      <td>Renaissance</td>\n",
       "      <td>Mythology &amp; Folklore</td>\n",
       "    </tr>\n",
       "    <tr>\n",
       "      <th>2</th>\n",
       "      <td>thomas bastard</td>\n",
       "      <td>our vice runs beyond all that old men saw and ...</td>\n",
       "      <td>Book 7, Epigram 42</td>\n",
       "      <td>Renaissance</td>\n",
       "      <td>Mythology &amp; Folklore</td>\n",
       "    </tr>\n",
       "    <tr>\n",
       "      <th>3</th>\n",
       "      <td>edmund spenser</td>\n",
       "      <td>lo i the man  whose muse whilome did maske as ...</td>\n",
       "      <td>from The Faerie Queene: Book I, Canto I</td>\n",
       "      <td>Renaissance</td>\n",
       "      <td>Mythology &amp; Folklore</td>\n",
       "    </tr>\n",
       "    <tr>\n",
       "      <th>4</th>\n",
       "      <td>richard barnfield</td>\n",
       "      <td>long have i longd to see my love againe still ...</td>\n",
       "      <td>Sonnet 16</td>\n",
       "      <td>Renaissance</td>\n",
       "      <td>Mythology &amp; Folklore</td>\n",
       "    </tr>\n",
       "  </tbody>\n",
       "</table>\n",
       "</div>"
      ],
      "text/plain": [
       "                                    author  \\\n",
       "0                      william shakespeare   \n",
       "1  duchess of newcastle margaret cavendish   \n",
       "2                           thomas bastard   \n",
       "3                           edmund spenser   \n",
       "4                        richard barnfield   \n",
       "\n",
       "                                             content  \\\n",
       "0  let the bird of loudest layon the sole arabian...   \n",
       "1  sir charles into my chamber coming in when i w...   \n",
       "2  our vice runs beyond all that old men saw and ...   \n",
       "3  lo i the man  whose muse whilome did maske as ...   \n",
       "4  long have i longd to see my love againe still ...   \n",
       "\n",
       "                                 poem name          age                  type  \n",
       "0               The Phoenix and the Turtle  Renaissance  Mythology & Folklore  \n",
       "1                 An Epilogue to the Above  Renaissance  Mythology & Folklore  \n",
       "2                       Book 7, Epigram 42  Renaissance  Mythology & Folklore  \n",
       "3  from The Faerie Queene: Book I, Canto I  Renaissance  Mythology & Folklore  \n",
       "4                                Sonnet 16  Renaissance  Mythology & Folklore  "
      ]
     },
     "execution_count": 13,
     "metadata": {},
     "output_type": "execute_result"
    }
   ],
   "source": [
    "df['content'] = df['content'].map(simplifyText)\n",
    "df['author'] = df['author'].map(simplifyText)\n",
    "df.head()"
   ]
  },
  {
   "cell_type": "markdown",
   "id": "military-upgrade",
   "metadata": {},
   "source": [
    "Removing stop words:"
   ]
  },
  {
   "cell_type": "code",
   "execution_count": 14,
   "id": "lined-approach",
   "metadata": {},
   "outputs": [],
   "source": [
    "stopWords = stopwords.words('english')"
   ]
  },
  {
   "cell_type": "code",
   "execution_count": 15,
   "id": "greenhouse-mixture",
   "metadata": {},
   "outputs": [],
   "source": [
    "df.to_csv('../data/all_preprocessed.csv', index=False)"
   ]
  },
  {
   "cell_type": "code",
   "execution_count": 16,
   "id": "julian-colors",
   "metadata": {},
   "outputs": [],
   "source": [
    "df['content'] = df['content'].apply(lambda x: ' '.join([word for word in x.split() if word not in (stopWords)]))\n",
    "# df['content'][0]"
   ]
  },
  {
   "cell_type": "markdown",
   "id": "caring-table",
   "metadata": {},
   "source": [
    "We are saving our new preprocessed dataset:"
   ]
  },
  {
   "cell_type": "code",
   "execution_count": 17,
   "id": "sustained-tongue",
   "metadata": {},
   "outputs": [],
   "source": [
    "# df.to_csv('../data/all_preprocessed.csv', index=False)"
   ]
  },
  {
   "cell_type": "markdown",
   "id": "whole-andrew",
   "metadata": {},
   "source": [
    "### Train/test split and TF-IDF matrix creation for casification algorithms"
   ]
  },
  {
   "cell_type": "code",
   "execution_count": 18,
   "id": "palestinian-wholesale",
   "metadata": {},
   "outputs": [],
   "source": [
    "X_train, X_test, y_train, y_test = train_test_split(df['content'], df[['age', 'type']], train_size=0.7)"
   ]
  },
  {
   "cell_type": "markdown",
   "id": "similar-liberty",
   "metadata": {},
   "source": [
    "Creating TF-IDF matrix for training data:"
   ]
  },
  {
   "cell_type": "code",
   "execution_count": 19,
   "id": "educational-therapist",
   "metadata": {},
   "outputs": [],
   "source": [
    "tfidfVectorizer = TfidfVectorizer()"
   ]
  },
  {
   "cell_type": "markdown",
   "id": "gentle-flour",
   "metadata": {},
   "source": [
    "Fitting vectorizer only for TRAINING \n",
    "\n",
    "This si because our models in future will use this matrix for fitting, so we don't want any influance of test data in it.\n",
    "\n",
    "So it would be big misstake if we wrote: tfidfVectorizer.fit(df[content])"
   ]
  },
  {
   "cell_type": "code",
   "execution_count": 20,
   "id": "intimate-video",
   "metadata": {
    "scrolled": true
   },
   "outputs": [
    {
     "data": {
      "text/html": [
       "<style>#sk-container-id-1 {color: black;background-color: white;}#sk-container-id-1 pre{padding: 0;}#sk-container-id-1 div.sk-toggleable {background-color: white;}#sk-container-id-1 label.sk-toggleable__label {cursor: pointer;display: block;width: 100%;margin-bottom: 0;padding: 0.3em;box-sizing: border-box;text-align: center;}#sk-container-id-1 label.sk-toggleable__label-arrow:before {content: \"▸\";float: left;margin-right: 0.25em;color: #696969;}#sk-container-id-1 label.sk-toggleable__label-arrow:hover:before {color: black;}#sk-container-id-1 div.sk-estimator:hover label.sk-toggleable__label-arrow:before {color: black;}#sk-container-id-1 div.sk-toggleable__content {max-height: 0;max-width: 0;overflow: hidden;text-align: left;background-color: #f0f8ff;}#sk-container-id-1 div.sk-toggleable__content pre {margin: 0.2em;color: black;border-radius: 0.25em;background-color: #f0f8ff;}#sk-container-id-1 input.sk-toggleable__control:checked~div.sk-toggleable__content {max-height: 200px;max-width: 100%;overflow: auto;}#sk-container-id-1 input.sk-toggleable__control:checked~label.sk-toggleable__label-arrow:before {content: \"▾\";}#sk-container-id-1 div.sk-estimator input.sk-toggleable__control:checked~label.sk-toggleable__label {background-color: #d4ebff;}#sk-container-id-1 div.sk-label input.sk-toggleable__control:checked~label.sk-toggleable__label {background-color: #d4ebff;}#sk-container-id-1 input.sk-hidden--visually {border: 0;clip: rect(1px 1px 1px 1px);clip: rect(1px, 1px, 1px, 1px);height: 1px;margin: -1px;overflow: hidden;padding: 0;position: absolute;width: 1px;}#sk-container-id-1 div.sk-estimator {font-family: monospace;background-color: #f0f8ff;border: 1px dotted black;border-radius: 0.25em;box-sizing: border-box;margin-bottom: 0.5em;}#sk-container-id-1 div.sk-estimator:hover {background-color: #d4ebff;}#sk-container-id-1 div.sk-parallel-item::after {content: \"\";width: 100%;border-bottom: 1px solid gray;flex-grow: 1;}#sk-container-id-1 div.sk-label:hover label.sk-toggleable__label {background-color: #d4ebff;}#sk-container-id-1 div.sk-serial::before {content: \"\";position: absolute;border-left: 1px solid gray;box-sizing: border-box;top: 0;bottom: 0;left: 50%;z-index: 0;}#sk-container-id-1 div.sk-serial {display: flex;flex-direction: column;align-items: center;background-color: white;padding-right: 0.2em;padding-left: 0.2em;position: relative;}#sk-container-id-1 div.sk-item {position: relative;z-index: 1;}#sk-container-id-1 div.sk-parallel {display: flex;align-items: stretch;justify-content: center;background-color: white;position: relative;}#sk-container-id-1 div.sk-item::before, #sk-container-id-1 div.sk-parallel-item::before {content: \"\";position: absolute;border-left: 1px solid gray;box-sizing: border-box;top: 0;bottom: 0;left: 50%;z-index: -1;}#sk-container-id-1 div.sk-parallel-item {display: flex;flex-direction: column;z-index: 1;position: relative;background-color: white;}#sk-container-id-1 div.sk-parallel-item:first-child::after {align-self: flex-end;width: 50%;}#sk-container-id-1 div.sk-parallel-item:last-child::after {align-self: flex-start;width: 50%;}#sk-container-id-1 div.sk-parallel-item:only-child::after {width: 0;}#sk-container-id-1 div.sk-dashed-wrapped {border: 1px dashed gray;margin: 0 0.4em 0.5em 0.4em;box-sizing: border-box;padding-bottom: 0.4em;background-color: white;}#sk-container-id-1 div.sk-label label {font-family: monospace;font-weight: bold;display: inline-block;line-height: 1.2em;}#sk-container-id-1 div.sk-label-container {text-align: center;}#sk-container-id-1 div.sk-container {/* jupyter's `normalize.less` sets `[hidden] { display: none; }` but bootstrap.min.css set `[hidden] { display: none !important; }` so we also need the `!important` here to be able to override the default hidden behavior on the sphinx rendered scikit-learn.org. See: https://github.com/scikit-learn/scikit-learn/issues/21755 */display: inline-block !important;position: relative;}#sk-container-id-1 div.sk-text-repr-fallback {display: none;}</style><div id=\"sk-container-id-1\" class=\"sk-top-container\"><div class=\"sk-text-repr-fallback\"><pre>TfidfVectorizer()</pre><b>In a Jupyter environment, please rerun this cell to show the HTML representation or trust the notebook. <br />On GitHub, the HTML representation is unable to render, please try loading this page with nbviewer.org.</b></div><div class=\"sk-container\" hidden><div class=\"sk-item\"><div class=\"sk-estimator sk-toggleable\"><input class=\"sk-toggleable__control sk-hidden--visually\" id=\"sk-estimator-id-1\" type=\"checkbox\" checked><label for=\"sk-estimator-id-1\" class=\"sk-toggleable__label sk-toggleable__label-arrow\">TfidfVectorizer</label><div class=\"sk-toggleable__content\"><pre>TfidfVectorizer()</pre></div></div></div></div></div>"
      ],
      "text/plain": [
       "TfidfVectorizer()"
      ]
     },
     "execution_count": 20,
     "metadata": {},
     "output_type": "execute_result"
    }
   ],
   "source": [
    "tfidfVectorizer.fit(X_train)"
   ]
  },
  {
   "cell_type": "markdown",
   "id": "hindu-acquisition",
   "metadata": {},
   "source": [
    "Saving train data:"
   ]
  },
  {
   "cell_type": "code",
   "execution_count": 21,
   "id": "driving-automation",
   "metadata": {},
   "outputs": [
    {
     "data": {
      "text/html": [
       "<div>\n",
       "<style scoped>\n",
       "    .dataframe tbody tr th:only-of-type {\n",
       "        vertical-align: middle;\n",
       "    }\n",
       "\n",
       "    .dataframe tbody tr th {\n",
       "        vertical-align: top;\n",
       "    }\n",
       "\n",
       "    .dataframe thead th {\n",
       "        text-align: right;\n",
       "    }\n",
       "</style>\n",
       "<table border=\"1\" class=\"dataframe\">\n",
       "  <thead>\n",
       "    <tr style=\"text-align: right;\">\n",
       "      <th></th>\n",
       "      <th>10</th>\n",
       "      <th>13</th>\n",
       "      <th>19</th>\n",
       "      <th>1904</th>\n",
       "      <th>1914</th>\n",
       "      <th>1917</th>\n",
       "      <th>1921</th>\n",
       "      <th>1922</th>\n",
       "      <th>1923</th>\n",
       "      <th>1926</th>\n",
       "      <th>...</th>\n",
       "      <th>ytorne</th>\n",
       "      <th>yvie</th>\n",
       "      <th>yvorie</th>\n",
       "      <th>yvory</th>\n",
       "      <th>zeal</th>\n",
       "      <th>zealous</th>\n",
       "      <th>zenophontes</th>\n",
       "      <th>zephyrus</th>\n",
       "      <th>zeus</th>\n",
       "      <th>zone</th>\n",
       "    </tr>\n",
       "  </thead>\n",
       "  <tbody>\n",
       "    <tr>\n",
       "      <th>0</th>\n",
       "      <td>0.0</td>\n",
       "      <td>0.0</td>\n",
       "      <td>0.0</td>\n",
       "      <td>0.0</td>\n",
       "      <td>0.0</td>\n",
       "      <td>0.0</td>\n",
       "      <td>0.0</td>\n",
       "      <td>0.0</td>\n",
       "      <td>0.0</td>\n",
       "      <td>0.0</td>\n",
       "      <td>...</td>\n",
       "      <td>0.0</td>\n",
       "      <td>0.0</td>\n",
       "      <td>0.0</td>\n",
       "      <td>0.0</td>\n",
       "      <td>0.0</td>\n",
       "      <td>0.0</td>\n",
       "      <td>0.0</td>\n",
       "      <td>0.0</td>\n",
       "      <td>0.0</td>\n",
       "      <td>0.0</td>\n",
       "    </tr>\n",
       "    <tr>\n",
       "      <th>1</th>\n",
       "      <td>0.0</td>\n",
       "      <td>0.0</td>\n",
       "      <td>0.0</td>\n",
       "      <td>0.0</td>\n",
       "      <td>0.0</td>\n",
       "      <td>0.0</td>\n",
       "      <td>0.0</td>\n",
       "      <td>0.0</td>\n",
       "      <td>0.0</td>\n",
       "      <td>0.0</td>\n",
       "      <td>...</td>\n",
       "      <td>0.0</td>\n",
       "      <td>0.0</td>\n",
       "      <td>0.0</td>\n",
       "      <td>0.0</td>\n",
       "      <td>0.0</td>\n",
       "      <td>0.0</td>\n",
       "      <td>0.0</td>\n",
       "      <td>0.0</td>\n",
       "      <td>0.0</td>\n",
       "      <td>0.0</td>\n",
       "    </tr>\n",
       "    <tr>\n",
       "      <th>2</th>\n",
       "      <td>0.0</td>\n",
       "      <td>0.0</td>\n",
       "      <td>0.0</td>\n",
       "      <td>0.0</td>\n",
       "      <td>0.0</td>\n",
       "      <td>0.0</td>\n",
       "      <td>0.0</td>\n",
       "      <td>0.0</td>\n",
       "      <td>0.0</td>\n",
       "      <td>0.0</td>\n",
       "      <td>...</td>\n",
       "      <td>0.0</td>\n",
       "      <td>0.0</td>\n",
       "      <td>0.0</td>\n",
       "      <td>0.0</td>\n",
       "      <td>0.0</td>\n",
       "      <td>0.0</td>\n",
       "      <td>0.0</td>\n",
       "      <td>0.0</td>\n",
       "      <td>0.0</td>\n",
       "      <td>0.0</td>\n",
       "    </tr>\n",
       "    <tr>\n",
       "      <th>3</th>\n",
       "      <td>0.0</td>\n",
       "      <td>0.0</td>\n",
       "      <td>0.0</td>\n",
       "      <td>0.0</td>\n",
       "      <td>0.0</td>\n",
       "      <td>0.0</td>\n",
       "      <td>0.0</td>\n",
       "      <td>0.0</td>\n",
       "      <td>0.0</td>\n",
       "      <td>0.0</td>\n",
       "      <td>...</td>\n",
       "      <td>0.0</td>\n",
       "      <td>0.0</td>\n",
       "      <td>0.0</td>\n",
       "      <td>0.0</td>\n",
       "      <td>0.0</td>\n",
       "      <td>0.0</td>\n",
       "      <td>0.0</td>\n",
       "      <td>0.0</td>\n",
       "      <td>0.0</td>\n",
       "      <td>0.0</td>\n",
       "    </tr>\n",
       "    <tr>\n",
       "      <th>4</th>\n",
       "      <td>0.0</td>\n",
       "      <td>0.0</td>\n",
       "      <td>0.0</td>\n",
       "      <td>0.0</td>\n",
       "      <td>0.0</td>\n",
       "      <td>0.0</td>\n",
       "      <td>0.0</td>\n",
       "      <td>0.0</td>\n",
       "      <td>0.0</td>\n",
       "      <td>0.0</td>\n",
       "      <td>...</td>\n",
       "      <td>0.0</td>\n",
       "      <td>0.0</td>\n",
       "      <td>0.0</td>\n",
       "      <td>0.0</td>\n",
       "      <td>0.0</td>\n",
       "      <td>0.0</td>\n",
       "      <td>0.0</td>\n",
       "      <td>0.0</td>\n",
       "      <td>0.0</td>\n",
       "      <td>0.0</td>\n",
       "    </tr>\n",
       "  </tbody>\n",
       "</table>\n",
       "<p>5 rows × 11297 columns</p>\n",
       "</div>"
      ],
      "text/plain": [
       "    10   13   19  1904  1914  1917  1921  1922  1923  1926  ...  ytorne  yvie  \\\n",
       "0  0.0  0.0  0.0   0.0   0.0   0.0   0.0   0.0   0.0   0.0  ...     0.0   0.0   \n",
       "1  0.0  0.0  0.0   0.0   0.0   0.0   0.0   0.0   0.0   0.0  ...     0.0   0.0   \n",
       "2  0.0  0.0  0.0   0.0   0.0   0.0   0.0   0.0   0.0   0.0  ...     0.0   0.0   \n",
       "3  0.0  0.0  0.0   0.0   0.0   0.0   0.0   0.0   0.0   0.0  ...     0.0   0.0   \n",
       "4  0.0  0.0  0.0   0.0   0.0   0.0   0.0   0.0   0.0   0.0  ...     0.0   0.0   \n",
       "\n",
       "   yvorie  yvory  zeal  zealous  zenophontes  zephyrus  zeus  zone  \n",
       "0     0.0    0.0   0.0      0.0          0.0       0.0   0.0   0.0  \n",
       "1     0.0    0.0   0.0      0.0          0.0       0.0   0.0   0.0  \n",
       "2     0.0    0.0   0.0      0.0          0.0       0.0   0.0   0.0  \n",
       "3     0.0    0.0   0.0      0.0          0.0       0.0   0.0   0.0  \n",
       "4     0.0    0.0   0.0      0.0          0.0       0.0   0.0   0.0  \n",
       "\n",
       "[5 rows x 11297 columns]"
      ]
     },
     "execution_count": 21,
     "metadata": {},
     "output_type": "execute_result"
    }
   ],
   "source": [
    "tfidf_TrainX = tfidfVectorizer.transform(X_train)\n",
    "dfTrain = pd.DataFrame(tfidf_TrainX.toarray(), columns=tfidfVectorizer.get_feature_names_out())\n",
    "dfTrain.head()"
   ]
  },
  {
   "cell_type": "code",
   "execution_count": 22,
   "id": "overall-concentration",
   "metadata": {},
   "outputs": [],
   "source": [
    "dfTrain.to_csv('../data/train/X_train.csv', index=False)\n",
    "y_train['age'].to_csv('../data/train/y_train.csv', index=False)\n",
    "y_train['type'].to_csv('../data/train/y_train_type.csv', index=False)"
   ]
  },
  {
   "cell_type": "markdown",
   "id": "short-allen",
   "metadata": {},
   "source": [
    "Saving test data:"
   ]
  },
  {
   "cell_type": "code",
   "execution_count": 23,
   "id": "secret-break",
   "metadata": {},
   "outputs": [],
   "source": [
    "tfidf_TestX = tfidfVectorizer.transform(X_test)\n",
    "dfTest = pd.DataFrame(tfidf_TestX.toarray(), columns=tfidfVectorizer.get_feature_names_out())"
   ]
  },
  {
   "cell_type": "code",
   "execution_count": 24,
   "id": "reflected-segment",
   "metadata": {},
   "outputs": [],
   "source": [
    "dfTest.to_csv('../data/test/X_test.csv', index=False)\n",
    "y_test['age'].to_csv('../data/test/y_test.csv', index=False)\n",
    "y_test['type'].to_csv('../data/test/y_test_type.csv', index=False)"
   ]
  },
  {
   "cell_type": "code",
   "execution_count": null,
   "id": "improving-perspective",
   "metadata": {},
   "outputs": [],
   "source": []
  }
 ],
 "metadata": {
  "kernelspec": {
   "display_name": "Python 3",
   "language": "python",
   "name": "python3"
  },
  "language_info": {
   "codemirror_mode": {
    "name": "ipython",
    "version": 3
   },
   "file_extension": ".py",
   "mimetype": "text/x-python",
   "name": "python",
   "nbconvert_exporter": "python",
   "pygments_lexer": "ipython3",
   "version": "3.8.10"
  }
 },
 "nbformat": 4,
 "nbformat_minor": 5
}
